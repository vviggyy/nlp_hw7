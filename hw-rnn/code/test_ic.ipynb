{
 "cells": [
  {
   "cell_type": "code",
   "execution_count": 1,
   "metadata": {},
   "outputs": [],
   "source": [
    "#!/usr/bin/env python3"
   ]
  },
  {
   "cell_type": "code",
   "execution_count": 2,
   "metadata": {},
   "outputs": [],
   "source": [
    "%load_ext autoreload\n",
    "%autoreload 2"
   ]
  },
  {
   "cell_type": "code",
   "execution_count": 3,
   "metadata": {},
   "outputs": [
    {
     "name": "stdout",
     "output_type": "stream",
     "text": [
      "Requirement already satisfied: more_itertools in /Users/elenaporras/anaconda3/envs/nlp-class/lib/python3.9/site-packages (10.5.0)\n"
     ]
    }
   ],
   "source": [
    "!pip install more_itertools"
   ]
  },
  {
   "cell_type": "markdown",
   "metadata": {},
   "source": [
    "This file illustrates how you might experiment with the HMM interface.\n",
    "You can paste these commands in at the Python prompt, or execute `test_ic.py` directly.\n",
    "A notebook interface is nicer than the plain Python prompt, so we provide\n",
    "a notebook version of this file as `test_ic.ipynb`, which you can open with\n",
    "`jupyter` or with Visual Studio `code` (run it with the `nlp-class` kernel)."
   ]
  },
  {
   "cell_type": "code",
   "execution_count": 4,
   "metadata": {},
   "outputs": [],
   "source": [
    "import logging, math, os\n",
    "from pathlib import Path"
   ]
  },
  {
   "cell_type": "code",
   "execution_count": 5,
   "metadata": {},
   "outputs": [],
   "source": [
    "import torch\n",
    "from torch import tensor"
   ]
  },
  {
   "cell_type": "code",
   "execution_count": 6,
   "metadata": {},
   "outputs": [],
   "source": [
    "from corpus import TaggedCorpus\n",
    "from eval import model_cross_entropy, write_tagging\n",
    "from hmm import HiddenMarkovModel\n",
    "from crf import ConditionalRandomField\n",
    "from crf_backprop import ConditionalRandomFieldBackprop"
   ]
  },
  {
   "cell_type": "markdown",
   "metadata": {},
   "source": [
    "Set up logging."
   ]
  },
  {
   "cell_type": "code",
   "execution_count": 7,
   "metadata": {},
   "outputs": [],
   "source": [
    "log = logging.getLogger(\"test_ic\")       # For usage, see findsim.py in earlier assignment.\n",
    "logging.root.setLevel(level=logging.INFO)\n",
    "logging.basicConfig(level=logging.INFO)  # could change INFO to DEBUG\n",
    "# torch.autograd.set_detect_anomaly(True)    # uncomment to improve error messages from .backward(), but slows down"
   ]
  },
  {
   "cell_type": "markdown",
   "metadata": {},
   "source": [
    "Switch working directory to the directory where the data live.  You may want to edit this line."
   ]
  },
  {
   "cell_type": "code",
   "execution_count": 8,
   "metadata": {},
   "outputs": [],
   "source": [
    "os.chdir(\"../data\")"
   ]
  },
  {
   "cell_type": "markdown",
   "metadata": {},
   "source": [
    "Get vocabulary and tagset from a supervised corpus."
   ]
  },
  {
   "cell_type": "code",
   "execution_count": 9,
   "metadata": {},
   "outputs": [
    {
     "name": "stderr",
     "output_type": "stream",
     "text": [
      "INFO:corpus:Read 40 tokens from icsup\n",
      "INFO:corpus:Created 4 tag types\n",
      "INFO:corpus:Created 5 word types\n",
      "INFO:test_ic:Ice cream vocabulary: ['1', '2', '3', '_EOS_WORD_', '_BOS_WORD_']\n",
      "INFO:test_ic:Ice cream tagset: ['C', 'H', '_EOS_TAG_', '_BOS_TAG_']\n"
     ]
    }
   ],
   "source": [
    "icsup = TaggedCorpus(Path(\"icsup\"), add_oov=False)\n",
    "log.info(f\"Ice cream vocabulary: {list(icsup.vocab)}\")\n",
    "log.info(f\"Ice cream tagset: {list(icsup.tagset)}\")"
   ]
  },
  {
   "cell_type": "markdown",
   "metadata": {},
   "source": [
    "Two ways to look at the corpus ..."
   ]
  },
  {
   "cell_type": "code",
   "execution_count": 10,
   "metadata": {},
   "outputs": [
    {
     "name": "stderr",
     "output_type": "stream",
     "text": [
      "INFO:corpus:Read 40 tokens from icsup\n",
      "INFO:corpus:Created 4 tag types\n",
      "INFO:corpus:Created 5 word types\n",
      "INFO:crf_backprop:Parameters: 28 = 4*3 + 4*4\n",
      "  0%|          | 0/500 [00:00<?, ?it/s]\n"
     ]
    },
    {
     "ename": "AttributeError",
     "evalue": "'ConditionalRandomFieldBackprop' object has no attribute 'log_prob'",
     "output_type": "error",
     "traceback": [
      "\u001b[0;31m---------------------------------------------------------------------------\u001b[0m",
      "\u001b[0;31mAttributeError\u001b[0m                            Traceback (most recent call last)",
      "Cell \u001b[0;32mIn[10], line 21\u001b[0m\n\u001b[1;32m     18\u001b[0m     \u001b[38;5;28;01mreturn\u001b[39;00m total_loss \u001b[38;5;241m/\u001b[39m \u001b[38;5;28mlen\u001b[39m(icdev)\n\u001b[1;32m     20\u001b[0m \u001b[38;5;66;03m# Train with the loss function\u001b[39;00m\n\u001b[0;32m---> 21\u001b[0m \u001b[43mcrf\u001b[49m\u001b[38;5;241;43m.\u001b[39;49m\u001b[43mtrain\u001b[49m\u001b[43m(\u001b[49m\u001b[43micsup\u001b[49m\u001b[43m,\u001b[49m\u001b[43m \u001b[49m\u001b[43mdev_loss\u001b[49m\u001b[43m)\u001b[49m\n\u001b[1;32m     23\u001b[0m \u001b[38;5;66;03m# Evaluate\u001b[39;00m\n\u001b[1;32m     24\u001b[0m \u001b[38;5;28mprint\u001b[39m(\u001b[38;5;124mf\u001b[39m\u001b[38;5;124m\"\u001b[39m\u001b[38;5;124mDev set loss: \u001b[39m\u001b[38;5;132;01m{\u001b[39;00mdev_loss(crf)\u001b[38;5;132;01m}\u001b[39;00m\u001b[38;5;124m\"\u001b[39m)\n",
      "File \u001b[0;32m~/jhu/senior_year/nlp/nlp_HW7/nlp_hw7/hw-rnn/code/crf_backprop.py:134\u001b[0m, in \u001b[0;36mConditionalRandomFieldBackprop.train\u001b[0;34m(self, corpus, minibatch_size, lr, reg, *args, **kwargs)\u001b[0m\n\u001b[1;32m    129\u001b[0m \u001b[38;5;66;03m# Now just call the parent method with exactly the same arguments.  The parent\u001b[39;00m\n\u001b[1;32m    130\u001b[0m \u001b[38;5;66;03m# method will train exactly as before (you should probably review it) --\u001b[39;00m\n\u001b[1;32m    131\u001b[0m \u001b[38;5;66;03m# except that it will call methods that you will override below. Your\u001b[39;00m\n\u001b[1;32m    132\u001b[0m \u001b[38;5;66;03m# overridden versions can use the optimizer that we just created.\u001b[39;00m\n\u001b[1;32m    133\u001b[0m \u001b[38;5;28mself\u001b[39m\u001b[38;5;241m.\u001b[39m_save_time \u001b[38;5;241m=\u001b[39m time\u001b[38;5;241m.\u001b[39mtime()   \u001b[38;5;66;03m# this line is here just in case you're using an old version of parent class that doesn't do it\u001b[39;00m\n\u001b[0;32m--> 134\u001b[0m \u001b[38;5;28;43msuper\u001b[39;49m\u001b[43m(\u001b[49m\u001b[43m)\u001b[49m\u001b[38;5;241;43m.\u001b[39;49m\u001b[43mtrain\u001b[49m\u001b[43m(\u001b[49m\u001b[43mcorpus\u001b[49m\u001b[43m,\u001b[49m\u001b[43m \u001b[49m\u001b[38;5;241;43m*\u001b[39;49m\u001b[43margs\u001b[49m\u001b[43m,\u001b[49m\u001b[43m \u001b[49m\u001b[43mminibatch_size\u001b[49m\u001b[38;5;241;43m=\u001b[39;49m\u001b[43mminibatch_size\u001b[49m\u001b[43m,\u001b[49m\u001b[43m \u001b[49m\u001b[43mlr\u001b[49m\u001b[38;5;241;43m=\u001b[39;49m\u001b[43mlr\u001b[49m\u001b[43m,\u001b[49m\u001b[43m \u001b[49m\u001b[43mreg\u001b[49m\u001b[38;5;241;43m=\u001b[39;49m\u001b[43mreg\u001b[49m\u001b[43m,\u001b[49m\u001b[43m \u001b[49m\u001b[38;5;241;43m*\u001b[39;49m\u001b[38;5;241;43m*\u001b[39;49m\u001b[43mkwargs\u001b[49m\u001b[43m)\u001b[49m\n",
      "File \u001b[0;32m~/jhu/senior_year/nlp/nlp_HW7/nlp_hw7/hw-rnn/code/crf.py:215\u001b[0m, in \u001b[0;36mConditionalRandomField.train\u001b[0;34m(self, corpus, loss, tolerance, minibatch_size, eval_interval, lr, reg, max_steps, save_path)\u001b[0m\n\u001b[1;32m    208\u001b[0m \u001b[38;5;28;01mfor\u001b[39;00m evalbatch \u001b[38;5;129;01min\u001b[39;00m more_itertools\u001b[38;5;241m.\u001b[39mbatched(\n\u001b[1;32m    209\u001b[0m                    itertools\u001b[38;5;241m.\u001b[39mislice(corpus\u001b[38;5;241m.\u001b[39mdraw_sentences_forever(), \n\u001b[1;32m    210\u001b[0m                                     max_steps),  \u001b[38;5;66;03m# limit infinite iterator\u001b[39;00m\n\u001b[1;32m    211\u001b[0m                    eval_interval): \u001b[38;5;66;03m# group into \"evaluation batches\"\u001b[39;00m\n\u001b[1;32m    212\u001b[0m     \u001b[38;5;28;01mfor\u001b[39;00m sentence \u001b[38;5;129;01min\u001b[39;00m tqdm(evalbatch, total\u001b[38;5;241m=\u001b[39meval_interval):\n\u001b[1;32m    213\u001b[0m         \u001b[38;5;66;03m# Accumulate the gradient of log p(tags | words) on this sentence \u001b[39;00m\n\u001b[1;32m    214\u001b[0m         \u001b[38;5;66;03m# into A_counts and B_counts.\u001b[39;00m\n\u001b[0;32m--> 215\u001b[0m         \u001b[38;5;28;43mself\u001b[39;49m\u001b[38;5;241;43m.\u001b[39;49m\u001b[43maccumulate_logprob_gradient\u001b[49m\u001b[43m(\u001b[49m\u001b[43msentence\u001b[49m\u001b[43m,\u001b[49m\u001b[43m \u001b[49m\u001b[43mcorpus\u001b[49m\u001b[43m)\u001b[49m\n\u001b[1;32m    216\u001b[0m         steps \u001b[38;5;241m+\u001b[39m\u001b[38;5;241m=\u001b[39m \u001b[38;5;241m1\u001b[39m\n\u001b[1;32m    218\u001b[0m         \u001b[38;5;28;01mif\u001b[39;00m steps \u001b[38;5;241m%\u001b[39m minibatch_size \u001b[38;5;241m==\u001b[39m \u001b[38;5;241m0\u001b[39m:              \n\u001b[1;32m    219\u001b[0m             \u001b[38;5;66;03m# Time to update params based on the accumulated \u001b[39;00m\n\u001b[1;32m    220\u001b[0m             \u001b[38;5;66;03m# minibatch gradient and regularizer.\u001b[39;00m\n",
      "File \u001b[0;32m~/jhu/senior_year/nlp/nlp_HW7/nlp_hw7/hw-rnn/code/crf_backprop.py:159\u001b[0m, in \u001b[0;36mConditionalRandomFieldBackprop.accumulate_logprob_gradient\u001b[0;34m(self, sentence, corpus)\u001b[0m\n\u001b[1;32m    144\u001b[0m \u001b[38;5;129m@override\u001b[39m\n\u001b[1;32m    145\u001b[0m \u001b[38;5;28;01mdef\u001b[39;00m \u001b[38;5;21maccumulate_logprob_gradient\u001b[39m(\u001b[38;5;28mself\u001b[39m, sentence: Sentence, corpus: TaggedCorpus) \u001b[38;5;241m-\u001b[39m\u001b[38;5;241m>\u001b[39m \u001b[38;5;28;01mNone\u001b[39;00m:\n\u001b[1;32m    146\u001b[0m     \u001b[38;5;66;03m# [docstring will be inherited from parent method]\u001b[39;00m\n\u001b[0;32m   (...)\u001b[0m\n\u001b[1;32m    157\u001b[0m     \u001b[38;5;66;03m# Hint: You want to maximize the (regularized) log-probability. However,\u001b[39;00m\n\u001b[1;32m    158\u001b[0m     \u001b[38;5;66;03m# PyTorch optimizers *minimize* functions by default.\u001b[39;00m\n\u001b[0;32m--> 159\u001b[0m     logprob \u001b[38;5;241m=\u001b[39m \u001b[38;5;28;43mself\u001b[39;49m\u001b[38;5;241;43m.\u001b[39;49m\u001b[43mlog_prob\u001b[49m(sentence, corpus)\n\u001b[1;32m    160\u001b[0m     \u001b[38;5;28;01mif\u001b[39;00m \u001b[38;5;129;01mnot\u001b[39;00m \u001b[38;5;28mhasattr\u001b[39m(\u001b[38;5;28mself\u001b[39m, \u001b[38;5;124m'\u001b[39m\u001b[38;5;124mminibatch_loss\u001b[39m\u001b[38;5;124m'\u001b[39m) \u001b[38;5;129;01mor\u001b[39;00m \u001b[38;5;28mself\u001b[39m\u001b[38;5;241m.\u001b[39mminibatch_loss \u001b[38;5;129;01mis\u001b[39;00m \u001b[38;5;28;01mNone\u001b[39;00m:\n\u001b[1;32m    161\u001b[0m         \u001b[38;5;28mself\u001b[39m\u001b[38;5;241m.\u001b[39mminibatch_loss \u001b[38;5;241m=\u001b[39m \u001b[38;5;241m-\u001b[39mlogprob  \u001b[38;5;66;03m# negative because we're minimizing\u001b[39;00m\n",
      "File \u001b[0;32m~/anaconda3/envs/nlp-class/lib/python3.9/site-packages/torch/nn/modules/module.py:1614\u001b[0m, in \u001b[0;36mModule.__getattr__\u001b[0;34m(self, name)\u001b[0m\n\u001b[1;32m   1612\u001b[0m     \u001b[38;5;28;01mif\u001b[39;00m name \u001b[38;5;129;01min\u001b[39;00m modules:\n\u001b[1;32m   1613\u001b[0m         \u001b[38;5;28;01mreturn\u001b[39;00m modules[name]\n\u001b[0;32m-> 1614\u001b[0m \u001b[38;5;28;01mraise\u001b[39;00m \u001b[38;5;167;01mAttributeError\u001b[39;00m(\u001b[38;5;124m\"\u001b[39m\u001b[38;5;124m'\u001b[39m\u001b[38;5;132;01m{}\u001b[39;00m\u001b[38;5;124m'\u001b[39m\u001b[38;5;124m object has no attribute \u001b[39m\u001b[38;5;124m'\u001b[39m\u001b[38;5;132;01m{}\u001b[39;00m\u001b[38;5;124m'\u001b[39m\u001b[38;5;124m\"\u001b[39m\u001b[38;5;241m.\u001b[39mformat(\n\u001b[1;32m   1615\u001b[0m     \u001b[38;5;28mtype\u001b[39m(\u001b[38;5;28mself\u001b[39m)\u001b[38;5;241m.\u001b[39m\u001b[38;5;18m__name__\u001b[39m, name))\n",
      "\u001b[0;31mAttributeError\u001b[0m: 'ConditionalRandomFieldBackprop' object has no attribute 'log_prob'"
     ]
    }
   ],
   "source": [
    "# Test IC (small dataset)\n",
    "from corpus import *\n",
    "from crf_backprop import ConditionalRandomFieldBackprop\n",
    "\n",
    "# Load the IC datasets\n",
    "icsup = TaggedCorpus(Path(\"icsup\"), add_oov=False) \n",
    "icdev = TaggedCorpus(Path(\"icdev\"), tagset=icsup.tagset, vocab=icsup.vocab)\n",
    "\n",
    "\n",
    "# Create and train the model\n",
    "crf = ConditionalRandomFieldBackprop(icsup.tagset, icsup.vocab)\n",
    "\n",
    "# Define the loss function that computes loss on dev set\n",
    "def dev_loss(model):\n",
    "    total_loss = 0.0\n",
    "    for sentence in icdev:\n",
    "        total_loss -= model.logprob(sentence, icdev)\n",
    "    return total_loss / len(icdev)\n",
    "\n",
    "# Train with the loss function\n",
    "crf.train(icsup, dev_loss)\n",
    "\n",
    "# Evaluate\n",
    "print(f\"Dev set loss: {dev_loss(crf)}\")"
   ]
  },
  {
   "cell_type": "code",
   "execution_count": null,
   "metadata": {},
   "outputs": [],
   "source": [
    "os.system(\"cat icsup\")   # call the shell to look at the file directly"
   ]
  },
  {
   "cell_type": "code",
   "execution_count": null,
   "metadata": {},
   "outputs": [],
   "source": [
    "log.info(icsup)          # print the TaggedCorpus python object we constructed from it"
   ]
  },
  {
   "cell_type": "markdown",
   "metadata": {},
   "source": [
    "Make an HMM."
   ]
  },
  {
   "cell_type": "code",
   "execution_count": null,
   "metadata": {},
   "outputs": [],
   "source": [
    "log.info(\"*** Hidden Markov Model (HMM) test\\n\")\n",
    "hmm = HiddenMarkovModel(icsup.tagset, icsup.vocab)\n",
    "# Change the transition/emission initial probabilities to match the ice cream spreadsheet,\n",
    "# and test your implementation of the Viterbi algorithm.  Note that the spreadsheet \n",
    "# uses transposed versions of these matrices.\n",
    "hmm.B = tensor([[0.7000, 0.2000, 0.1000],    # emission probabilities\n",
    "                [0.1000, 0.2000, 0.7000],\n",
    "                [0.0000, 0.0000, 0.0000],\n",
    "                [0.0000, 0.0000, 0.0000]])\n",
    "hmm.A = tensor([[0.8000, 0.1000, 0.1000, 0.0000],   # transition probabilities\n",
    "                [0.1000, 0.8000, 0.1000, 0.0000],\n",
    "                [0.0000, 0.0000, 0.0000, 0.0000],\n",
    "                [0.5000, 0.5000, 0.0000, 0.0000]])\n",
    "log.info(\"*** Current A, B matrices (using initalizations from the ice cream spreadsheet)\")\n",
    "hmm.printAB()"
   ]
  },
  {
   "cell_type": "markdown",
   "metadata": {},
   "source": [
    "Try it out on the raw data from the spreadsheet, available in `icraw``."
   ]
  },
  {
   "cell_type": "code",
   "execution_count": null,
   "metadata": {},
   "outputs": [],
   "source": [
    "log.info(\"*** Viterbi results on icraw with hard coded parameters\")\n",
    "icraw = TaggedCorpus(Path(\"icraw\"), tagset=icsup.tagset, vocab=icsup.vocab)\n",
    "write_tagging(hmm, icraw, Path(\"icraw_hmm.output\"))  # calls hmm.viterbi_tagging on each sentence\n",
    "os.system(\"cat icraw_hmm.output\")   # print the file we just created, and remove it\n"
   ]
  },
  {
   "cell_type": "markdown",
   "metadata": {},
   "source": [
    "Did the parameters that we guessed above get the \"correct\" answer, \n",
    "as revealed in `icdev`?"
   ]
  },
  {
   "cell_type": "code",
   "execution_count": null,
   "metadata": {},
   "outputs": [],
   "source": [
    "icdev = TaggedCorpus(Path(\"icdev\"), tagset=icsup.tagset, vocab=icsup.vocab)\n",
    "log.info(f\"*** Compare to icdev corpus:\\n{icdev}\")\n",
    "from eval import viterbi_error_rate\n",
    "viterbi_error_rate(hmm, icdev, show_cross_entropy=False)"
   ]
  },
  {
   "cell_type": "markdown",
   "metadata": {},
   "source": [
    "Now let's try your training code, running it on supervised data.\n",
    "To test this, we'll restart from a random initialization.\n",
    "(You could also try creating this new model with `unigram=true`, \n",
    "which will affect the rest of the notebook.)"
   ]
  },
  {
   "cell_type": "code",
   "execution_count": null,
   "metadata": {},
   "outputs": [],
   "source": [
    "hmm = HiddenMarkovModel(icsup.tagset, icsup.vocab)\n",
    "log.info(\"*** A, B matrices as randomly initialized close to uniform\")\n",
    "hmm.printAB()"
   ]
  },
  {
   "cell_type": "code",
   "execution_count": null,
   "metadata": {},
   "outputs": [],
   "source": [
    "log.info(\"*** Supervised training on icsup\")\n",
    "cross_entropy_loss = lambda model: model_cross_entropy(model, icsup)\n",
    "hmm.train(corpus=icsup, loss=cross_entropy_loss, tolerance=0.0001)\n",
    "log.info(\"*** A, B matrices after training on icsup (should \"\n",
    "         \"match initial params on spreadsheet [transposed])\")\n",
    "hmm.printAB()"
   ]
  },
  {
   "cell_type": "markdown",
   "metadata": {},
   "source": [
    "Now that we've reached the spreadsheet's starting guess, let's again tag\n",
    "the spreadsheet \"sentence\" (that is, the sequence of ice creams) using the\n",
    "Viterbi algorithm."
   ]
  },
  {
   "cell_type": "code",
   "execution_count": null,
   "metadata": {},
   "outputs": [],
   "source": [
    "log.info(\"*** Viterbi results on icraw\")\n",
    "icraw = TaggedCorpus(Path(\"icraw\"), tagset=icsup.tagset, vocab=icsup.vocab)\n",
    "write_tagging(hmm, icraw, Path(\"icraw_hmm.output\"))  # calls hmm.viterbi_tagging on each sentence\n",
    "os.system(\"cat icraw_hmm.output\")   # print the file we just created, and remove it"
   ]
  },
  {
   "cell_type": "markdown",
   "metadata": {},
   "source": [
    "Next let's use the forward algorithm to see what the model thinks about \n",
    "the probability of the spreadsheet \"sentence.\""
   ]
  },
  {
   "cell_type": "code",
   "execution_count": null,
   "metadata": {},
   "outputs": [],
   "source": [
    "log.info(\"*** Forward algorithm on icraw (should approximately match iteration 0 \"\n",
    "             \"on spreadsheet)\")\n",
    "for sentence in icraw:\n",
    "    prob = math.exp(hmm.logprob(sentence, icraw))\n",
    "    log.info(f\"{prob} = p({sentence})\")"
   ]
  },
  {
   "cell_type": "markdown",
   "metadata": {},
   "source": [
    "Finally, let's reestimate on the icraw data, as the spreadsheet does.\n",
    "We'll evaluate as we go along on the *training* perplexity, and stop\n",
    "when that has more or less converged."
   ]
  },
  {
   "cell_type": "code",
   "execution_count": null,
   "metadata": {},
   "outputs": [],
   "source": [
    "log.info(\"*** Reestimating on icraw (perplexity should improve on every iteration)\")\n",
    "negative_log_likelihood = lambda model: model_cross_entropy(model, icraw)  # evaluate on icraw itself\n",
    "hmm.train(corpus=icraw, loss=negative_log_likelihood, tolerance=0.0001)"
   ]
  },
  {
   "cell_type": "code",
   "execution_count": null,
   "metadata": {},
   "outputs": [],
   "source": [
    "log.info(\"*** A, B matrices after reestimation on icraw\"\n",
    "         \"should match final params on spreadsheet [transposed])\")\n",
    "hmm.printAB()"
   ]
  },
  {
   "cell_type": "markdown",
   "metadata": {},
   "source": [
    "Now let's try out a randomly initialized CRF on the ice cream data. Notice how\n",
    "the initialized A and B matrices now hold non-negative potentials,\n",
    "rather than probabilities that sum to 1."
   ]
  },
  {
   "cell_type": "code",
   "execution_count": null,
   "metadata": {},
   "outputs": [],
   "source": [
    "log.info(\"*** Conditional Random Field (CRF) Backprop test\\n\")\n",
    "crf = ConditionalRandomFieldBackprop(icsup.tagset, icsup.vocab)\n",
    "log.info(\"*** Current A, B matrices (potentials from small random parameters)\")\n",
    "crf.printAB()"
   ]
  },
  {
   "cell_type": "markdown",
   "metadata": {},
   "source": [
    "Now let's try your training code, running it on supervised data. To test this,\n",
    "we'll restart from a random initialization. \n",
    "\n",
    "Note that the logger reports the CRF's *conditional* cross-entropy, \n",
    "log p(tags | words) / n.  This is much lower than the HMM's *joint* \n",
    "cross-entropy log p(tags, words) / n, but that doesn't mean the CRF\n",
    "is worse at tagging.  The CRF is just predicting less information."
   ]
  },
  {
   "cell_type": "code",
   "execution_count": null,
   "metadata": {},
   "outputs": [],
   "source": [
    "log.info(\"*** Supervised training on icsup\")\n",
    "cross_entropy_loss = lambda model: model_cross_entropy(model, icsup)\n",
    "crf_backprop.train(corpus=icsup, loss=cross_entropy_loss, lr=0.1, tolerance=0.0001)\n",
    "log.info(\"*** A, B matrices after training on icsup\")\n",
    "crf.printAB()"
   ]
  },
  {
   "cell_type": "markdown",
   "metadata": {},
   "source": [
    "Let's again tag the spreadsheet \"sentence\" (that is, the sequence of ice creams) \n",
    "using the Viterbi algorithm (this may not match the HMM)."
   ]
  },
  {
   "cell_type": "code",
   "execution_count": null,
   "metadata": {},
   "outputs": [],
   "source": [
    "log.info(\"*** Viterbi results on icraw with trained parameters\")\n",
    "icraw = TaggedCorpus(Path(\"icraw\"), tagset=icsup.tagset, vocab=icsup.vocab)\n",
    "write_tagging(hmm, icraw, Path(\"icraw_crf.output\"))  # calls hmm.viterbi_tagging on each sentence\n",
    "os.system(\"cat icraw_crf.output\")   # print the file we just created, and remove it"
   ]
  }
 ],
 "metadata": {
  "kernelspec": {
   "display_name": "base",
   "language": "python",
   "name": "python3"
  },
  "language_info": {
   "codemirror_mode": {
    "name": "ipython",
    "version": 3
   },
   "file_extension": ".py",
   "mimetype": "text/x-python",
   "name": "python",
   "nbconvert_exporter": "python",
   "pygments_lexer": "ipython3",
   "version": "3.9.20"
  }
 },
 "nbformat": 4,
 "nbformat_minor": 2
}
