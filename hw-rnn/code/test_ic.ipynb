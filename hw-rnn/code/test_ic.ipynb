{
 "cells": [
  {
   "cell_type": "code",
   "execution_count": 1,
   "metadata": {},
   "outputs": [],
   "source": [
    "#!/usr/bin/env python3"
   ]
  },
  {
   "cell_type": "code",
   "execution_count": 2,
   "metadata": {},
   "outputs": [],
   "source": [
    "%load_ext autoreload\n",
    "%autoreload 2"
   ]
  },
  {
   "cell_type": "code",
   "execution_count": 3,
   "metadata": {},
   "outputs": [
    {
     "name": "stdout",
     "output_type": "stream",
     "text": [
      "Requirement already satisfied: more_itertools in /Users/elenaporras/anaconda3/envs/nlp-class/lib/python3.9/site-packages (10.5.0)\n"
     ]
    }
   ],
   "source": [
    "!pip install more_itertools"
   ]
  },
  {
   "cell_type": "markdown",
   "metadata": {},
   "source": [
    "This file illustrates how you might experiment with the HMM interface.\n",
    "You can paste these commands in at the Python prompt, or execute `test_ic.py` directly.\n",
    "A notebook interface is nicer than the plain Python prompt, so we provide\n",
    "a notebook version of this file as `test_ic.ipynb`, which you can open with\n",
    "`jupyter` or with Visual Studio `code` (run it with the `nlp-class` kernel)."
   ]
  },
  {
   "cell_type": "code",
   "execution_count": 4,
   "metadata": {},
   "outputs": [],
   "source": [
    "import logging, math, os\n",
    "from pathlib import Path"
   ]
  },
  {
   "cell_type": "code",
   "execution_count": 5,
   "metadata": {},
   "outputs": [],
   "source": [
    "import torch\n",
    "from torch import tensor"
   ]
  },
  {
   "cell_type": "code",
   "execution_count": 6,
   "metadata": {},
   "outputs": [],
   "source": [
    "from corpus import TaggedCorpus\n",
    "from eval import model_cross_entropy, write_tagging\n",
    "from hmm import HiddenMarkovModel\n",
    "from crf_backprop import ConditionalRandomFieldBackprop"
   ]
  },
  {
   "cell_type": "markdown",
   "metadata": {},
   "source": [
    "Set up logging."
   ]
  },
  {
   "cell_type": "code",
   "execution_count": 7,
   "metadata": {},
   "outputs": [],
   "source": [
    "log = logging.getLogger(\"test_ic\")       # For usage, see findsim.py in earlier assignment.\n",
    "logging.root.setLevel(level=logging.INFO)\n",
    "logging.basicConfig(level=logging.INFO)  # could change INFO to DEBUG\n",
    "# torch.autograd.set_detect_anomaly(True)    # uncomment to improve error messages from .backward(), but slows down"
   ]
  },
  {
   "cell_type": "markdown",
   "metadata": {},
   "source": [
    "Switch working directory to the directory where the data live.  You may want to edit this line."
   ]
  },
  {
   "cell_type": "code",
   "execution_count": 8,
   "metadata": {},
   "outputs": [],
   "source": [
    "os.chdir(\"../data\")"
   ]
  },
  {
   "cell_type": "markdown",
   "metadata": {},
   "source": [
    "Get vocabulary and tagset from a supervised corpus."
   ]
  },
  {
   "cell_type": "code",
   "execution_count": 9,
   "metadata": {},
   "outputs": [
    {
     "name": "stderr",
     "output_type": "stream",
     "text": [
      "INFO:corpus:Read 40 tokens from icsup\n",
      "INFO:corpus:Created 4 tag types\n",
      "INFO:corpus:Created 5 word types\n",
      "INFO:test_ic:Ice cream vocabulary: ['1', '2', '3', '_EOS_WORD_', '_BOS_WORD_']\n",
      "INFO:test_ic:Ice cream tagset: ['C', 'H', '_EOS_TAG_', '_BOS_TAG_']\n"
     ]
    }
   ],
   "source": [
    "icsup = TaggedCorpus(Path(\"icsup\"), add_oov=False)\n",
    "log.info(f\"Ice cream vocabulary: {list(icsup.vocab)}\")\n",
    "log.info(f\"Ice cream tagset: {list(icsup.tagset)}\")"
   ]
  },
  {
   "cell_type": "markdown",
   "metadata": {},
   "source": [
    "Two ways to look at the corpus ..."
   ]
  },
  {
   "cell_type": "code",
   "execution_count": 10,
   "metadata": {},
   "outputs": [
    {
     "name": "stdout",
     "output_type": "stream",
     "text": [
      "1/C 1/C 1/C 1/C 1/C 1/C 1/C 2/C 2/C 3/H\n",
      "1/H 2/H 2/H 3/H 3/H 3/H 3/H 3/H 3/H 3/C\n",
      "1/C 1/C 1/C 1/C 1/C 1/C 1/C 2/C 2/C 3/H\n",
      "1/H 2/H 2/H 3/H 3/H 3/H 3/H 3/H 3/H 3/C\n"
     ]
    },
    {
     "data": {
      "text/plain": [
       "0"
      ]
     },
     "execution_count": 10,
     "metadata": {},
     "output_type": "execute_result"
    }
   ],
   "source": [
    "os.system(\"cat icsup\")   # call the shell to look at the file directly"
   ]
  },
  {
   "cell_type": "code",
   "execution_count": 11,
   "metadata": {},
   "outputs": [
    {
     "name": "stderr",
     "output_type": "stream",
     "text": [
      "INFO:test_ic:1/C 1/C 1/C 1/C 1/C 1/C 1/C 2/C 2/C 3/H\n",
      "1/H 2/H 2/H 3/H 3/H 3/H 3/H 3/H 3/H 3/C\n",
      "1/C 1/C 1/C 1/C 1/C 1/C 1/C 2/C 2/C 3/H\n",
      "1/H 2/H 2/H 3/H 3/H 3/H 3/H 3/H 3/H 3/C\n"
     ]
    }
   ],
   "source": [
    "log.info(icsup)          # print the TaggedCorpus python object we constructed from it"
   ]
  },
  {
   "cell_type": "markdown",
   "metadata": {},
   "source": [
    "Make an HMM."
   ]
  },
  {
   "cell_type": "code",
   "execution_count": 12,
   "metadata": {},
   "outputs": [
    {
     "name": "stderr",
     "output_type": "stream",
     "text": [
      "INFO:test_ic:*** Hidden Markov Model (HMM) test\n",
      "\n",
      "INFO:test_ic:*** Current A, B matrices (using initalizations from the ice cream spreadsheet)\n"
     ]
    },
    {
     "name": "stdout",
     "output_type": "stream",
     "text": [
      "Transition matrix A:\n",
      "\tC\tH\t_EOS_TAG_\t_BOS_TAG_\n",
      "C\t0.800\t0.100\t0.100\t0.000\n",
      "H\t0.100\t0.800\t0.100\t0.000\n",
      "_EOS_TAG_\t0.000\t0.000\t0.000\t0.000\n",
      "_BOS_TAG_\t0.500\t0.500\t0.000\t0.000\n",
      "\n",
      "Emission matrix B:\n",
      "\t1\t2\t3\n",
      "C\t0.700\t0.200\t0.100\n",
      "H\t0.100\t0.200\t0.700\n",
      "_EOS_TAG_\t0.000\t0.000\t0.000\n",
      "_BOS_TAG_\t0.000\t0.000\t0.000\n",
      "\n",
      "\n"
     ]
    }
   ],
   "source": [
    "log.info(\"*** Hidden Markov Model (HMM) test\\n\")\n",
    "hmm = HiddenMarkovModel(icsup.tagset, icsup.vocab)\n",
    "# Change the transition/emission initial probabilities to match the ice cream spreadsheet,\n",
    "# and test your implementation of the Viterbi algorithm.  Note that the spreadsheet \n",
    "# uses transposed versions of these matrices.\n",
    "hmm.B = tensor([[0.7000, 0.2000, 0.1000],    # emission probabilities\n",
    "                [0.1000, 0.2000, 0.7000],\n",
    "                [0.0000, 0.0000, 0.0000],\n",
    "                [0.0000, 0.0000, 0.0000]])\n",
    "hmm.A = tensor([[0.8000, 0.1000, 0.1000, 0.0000],   # transition probabilities\n",
    "                [0.1000, 0.8000, 0.1000, 0.0000],\n",
    "                [0.0000, 0.0000, 0.0000, 0.0000],\n",
    "                [0.5000, 0.5000, 0.0000, 0.0000]])\n",
    "log.info(\"*** Current A, B matrices (using initalizations from the ice cream spreadsheet)\")\n",
    "hmm.printAB()"
   ]
  },
  {
   "cell_type": "markdown",
   "metadata": {},
   "source": [
    "Try it out on the raw data from the spreadsheet, available in `icraw``."
   ]
  },
  {
   "cell_type": "code",
   "execution_count": 13,
   "metadata": {},
   "outputs": [
    {
     "name": "stderr",
     "output_type": "stream",
     "text": [
      "INFO:test_ic:*** Viterbi results on icraw with hard coded parameters\n",
      "100%|██████████| 1/1 [00:00<00:00,  8.21it/s]"
     ]
    },
    {
     "name": "stdout",
     "output_type": "stream",
     "text": [
      "2/H 3/H 3/H 2/H 3/H 2/H 3/H 2/H 2/H 3/H 1/H 3/H 3/H 1/C 1/C 1/C 2/C 1/C 1/C 1/C 3/C 1/C 2/C 1/C 1/C 1/C 2/H 3/H 3/H 2/H 3/H 2/H 2/H\n"
     ]
    },
    {
     "name": "stderr",
     "output_type": "stream",
     "text": [
      "\n"
     ]
    },
    {
     "data": {
      "text/plain": [
       "0"
      ]
     },
     "execution_count": 13,
     "metadata": {},
     "output_type": "execute_result"
    }
   ],
   "source": [
    "log.info(\"*** Viterbi results on icraw with hard coded parameters\")\n",
    "icraw = TaggedCorpus(Path(\"icraw\"), tagset=icsup.tagset, vocab=icsup.vocab)\n",
    "write_tagging(hmm, icraw, Path(\"icraw_hmm.output\"))  # calls hmm.viterbi_tagging on each sentence\n",
    "os.system(\"cat icraw_hmm.output\")   # print the file we just created, and remove it\n"
   ]
  },
  {
   "cell_type": "markdown",
   "metadata": {},
   "source": [
    "Did the parameters that we guessed above get the \"correct\" answer, \n",
    "as revealed in `icdev`?"
   ]
  },
  {
   "cell_type": "code",
   "execution_count": 14,
   "metadata": {},
   "outputs": [
    {
     "name": "stderr",
     "output_type": "stream",
     "text": [
      "INFO:test_ic:*** Compare to icdev corpus:\n",
      "2/H 3/H 3/H 2/H 3/H 2/H 3/H 2/H 2/H 3/H 1/C 3/C 3/C 1/C 1/C 1/C 2/C 1/C 1/C 1/C 3/C 1/C 2/C 1/C 1/C 1/C 2/H 3/H 3/H 2/H 3/H 2/H 2/H\n",
      "100%|██████████| 1/1 [00:00<00:00, 11.34it/s]\n",
      "INFO:eval:Tagging accuracy: all: 90.909%, seen: 90.909%, novel: nan%\n"
     ]
    },
    {
     "data": {
      "text/plain": [
       "0.09090909090909094"
      ]
     },
     "execution_count": 14,
     "metadata": {},
     "output_type": "execute_result"
    }
   ],
   "source": [
    "icdev = TaggedCorpus(Path(\"icdev\"), tagset=icsup.tagset, vocab=icsup.vocab)\n",
    "log.info(f\"*** Compare to icdev corpus:\\n{icdev}\")\n",
    "from eval import viterbi_error_rate\n",
    "viterbi_error_rate(hmm, icdev, show_cross_entropy=False)"
   ]
  },
  {
   "cell_type": "markdown",
   "metadata": {},
   "source": [
    "Now let's try your training code, running it on supervised data.\n",
    "To test this, we'll restart from a random initialization.\n",
    "(You could also try creating this new model with `unigram=true`, \n",
    "which will affect the rest of the notebook.)"
   ]
  },
  {
   "cell_type": "code",
   "execution_count": 15,
   "metadata": {},
   "outputs": [
    {
     "name": "stderr",
     "output_type": "stream",
     "text": [
      "INFO:test_ic:*** A, B matrices as randomly initialized close to uniform\n"
     ]
    },
    {
     "name": "stdout",
     "output_type": "stream",
     "text": [
      "Transition matrix A:\n",
      "\tC\tH\t_EOS_TAG_\t_BOS_TAG_\n",
      "C\t0.445\t0.286\t0.269\t0.000\n",
      "H\t0.281\t0.448\t0.271\t0.000\n",
      "_EOS_TAG_\t0.290\t0.272\t0.438\t0.000\n",
      "_BOS_TAG_\t0.344\t0.334\t0.322\t0.000\n",
      "\n",
      "Emission matrix B:\n",
      "\t1\t2\t3\n",
      "C\t0.332\t0.333\t0.334\n",
      "H\t0.324\t0.336\t0.340\n",
      "_EOS_TAG_\t0.000\t0.000\t0.000\n",
      "_BOS_TAG_\t0.000\t0.000\t0.000\n",
      "\n",
      "\n"
     ]
    }
   ],
   "source": [
    "hmm = HiddenMarkovModel(icsup.tagset, icsup.vocab)\n",
    "log.info(\"*** A, B matrices as randomly initialized close to uniform\")\n",
    "hmm.printAB()"
   ]
  },
  {
   "cell_type": "code",
   "execution_count": 16,
   "metadata": {},
   "outputs": [
    {
     "name": "stderr",
     "output_type": "stream",
     "text": [
      "INFO:test_ic:*** Supervised training on icsup\n",
      "100%|██████████| 4/4 [00:00<00:00, 60.14it/s]\n",
      "INFO:eval:Cross-entropy: 1.4117 nats (= perplexity 4.103)\n",
      "100%|██████████| 4/4 [00:00<00:00, 34.63it/s]\n",
      "INFO:hmm:Saved model to my_hmm.pkl\n",
      "100%|██████████| 4/4 [00:00<00:00, 78.19it/s]\n",
      "INFO:eval:Cross-entropy: 1.0584 nats (= perplexity 2.882)\n",
      "100%|██████████| 4/4 [00:00<00:00, 50.17it/s]\n",
      "INFO:hmm:Saved model to my_hmm.pkl\n",
      "100%|██████████| 4/4 [00:00<00:00, 115.29it/s]\n",
      "INFO:eval:Cross-entropy: 1.0584 nats (= perplexity 2.882)\n",
      "INFO:hmm:Saved model to my_hmm.pkl\n",
      "INFO:test_ic:*** A, B matrices after training on icsup (should match initial params on spreadsheet [transposed])\n"
     ]
    },
    {
     "name": "stdout",
     "output_type": "stream",
     "text": [
      "Transition matrix A:\n",
      "\tC\tH\t_EOS_TAG_\t_BOS_TAG_\n",
      "C\t0.800\t0.100\t0.100\t0.000\n",
      "H\t0.100\t0.800\t0.100\t0.000\n",
      "_EOS_TAG_\t0.000\t0.000\t0.000\t0.000\n",
      "_BOS_TAG_\t0.500\t0.500\t0.000\t0.000\n",
      "\n",
      "Emission matrix B:\n",
      "\t1\t2\t3\n",
      "C\t0.700\t0.200\t0.100\n",
      "H\t0.100\t0.200\t0.700\n",
      "_EOS_TAG_\t0.000\t0.000\t0.000\n",
      "_BOS_TAG_\t0.000\t0.000\t0.000\n",
      "\n",
      "\n"
     ]
    }
   ],
   "source": [
    "log.info(\"*** Supervised training on icsup\")\n",
    "cross_entropy_loss = lambda model: model_cross_entropy(model, icsup)\n",
    "hmm.train(corpus=icsup, loss=cross_entropy_loss, tolerance=0.0001)\n",
    "log.info(\"*** A, B matrices after training on icsup (should \"\n",
    "         \"match initial params on spreadsheet [transposed])\")\n",
    "hmm.printAB()"
   ]
  },
  {
   "cell_type": "markdown",
   "metadata": {},
   "source": [
    "Now that we've reached the spreadsheet's starting guess, let's again tag\n",
    "the spreadsheet \"sentence\" (that is, the sequence of ice creams) using the\n",
    "Viterbi algorithm."
   ]
  },
  {
   "cell_type": "code",
   "execution_count": 17,
   "metadata": {},
   "outputs": [
    {
     "name": "stderr",
     "output_type": "stream",
     "text": [
      "INFO:test_ic:*** Viterbi results on icraw\n",
      "100%|██████████| 1/1 [00:00<00:00, 13.36it/s]"
     ]
    },
    {
     "name": "stdout",
     "output_type": "stream",
     "text": [
      "2/H 3/H 3/H 2/H 3/H 2/H 3/H 2/H 2/H 3/H 1/H 3/H 3/H 1/C 1/C 1/C 2/C 1/C 1/C 1/C 3/C 1/C 2/C 1/C 1/C 1/C 2/H 3/H 3/H 2/H 3/H 2/H 2/H\n"
     ]
    },
    {
     "name": "stderr",
     "output_type": "stream",
     "text": [
      "\n"
     ]
    },
    {
     "data": {
      "text/plain": [
       "0"
      ]
     },
     "execution_count": 17,
     "metadata": {},
     "output_type": "execute_result"
    }
   ],
   "source": [
    "log.info(\"*** Viterbi results on icraw\")\n",
    "icraw = TaggedCorpus(Path(\"icraw\"), tagset=icsup.tagset, vocab=icsup.vocab)\n",
    "write_tagging(hmm, icraw, Path(\"icraw_hmm.output\"))  # calls hmm.viterbi_tagging on each sentence\n",
    "os.system(\"cat icraw_hmm.output\")   # print the file we just created, and remove it"
   ]
  },
  {
   "cell_type": "markdown",
   "metadata": {},
   "source": [
    "Next let's use the forward algorithm to see what the model thinks about \n",
    "the probability of the spreadsheet \"sentence.\""
   ]
  },
  {
   "cell_type": "code",
   "execution_count": 18,
   "metadata": {},
   "outputs": [
    {
     "name": "stderr",
     "output_type": "stream",
     "text": [
      "INFO:test_ic:*** Forward algorithm on icraw (should approximately match iteration 0 on spreadsheet)\n",
      "INFO:test_ic:9.127694257509654e-19 = p(2 3 3 2 3 2 3 2 2 3 1 3 3 1 1 1 2 1 1 1 3 1 2 1 1 1 2 3 3 2 3 2 2)\n"
     ]
    }
   ],
   "source": [
    "log.info(\"*** Forward algorithm on icraw (should approximately match iteration 0 \"\n",
    "             \"on spreadsheet)\")\n",
    "for sentence in icraw:\n",
    "    prob = math.exp(hmm.logprob(sentence, icraw))\n",
    "    log.info(f\"{prob} = p({sentence})\")"
   ]
  },
  {
   "cell_type": "markdown",
   "metadata": {},
   "source": [
    "Finally, let's reestimate on the icraw data, as the spreadsheet does.\n",
    "We'll evaluate as we go along on the *training* perplexity, and stop\n",
    "when that has more or less converged."
   ]
  },
  {
   "cell_type": "code",
   "execution_count": 19,
   "metadata": {},
   "outputs": [
    {
     "name": "stderr",
     "output_type": "stream",
     "text": [
      "INFO:test_ic:*** Reestimating on icraw (perplexity should improve on every iteration)\n",
      "100%|██████████| 1/1 [00:00<00:00, 12.46it/s]\n",
      "INFO:eval:Cross-entropy: 1.2217 nats (= perplexity 3.393)\n",
      "100%|██████████| 1/1 [00:00<00:00,  6.39it/s]\n",
      "INFO:hmm:Saved model to my_hmm.pkl\n",
      "100%|██████████| 1/1 [00:00<00:00, 13.87it/s]\n",
      "INFO:eval:Cross-entropy: 1.0807 nats (= perplexity 2.947)\n",
      "100%|██████████| 1/1 [00:00<00:00,  5.40it/s]\n",
      "INFO:hmm:Saved model to my_hmm.pkl\n",
      "100%|██████████| 1/1 [00:00<00:00, 10.64it/s]\n",
      "INFO:eval:Cross-entropy: 1.0576 nats (= perplexity 2.879)\n",
      "100%|██████████| 1/1 [00:00<00:00,  4.32it/s]\n",
      "INFO:hmm:Saved model to my_hmm.pkl\n",
      "100%|██████████| 1/1 [00:00<00:00, 13.62it/s]\n",
      "INFO:eval:Cross-entropy: 1.0486 nats (= perplexity 2.854)\n",
      "100%|██████████| 1/1 [00:00<00:00,  7.40it/s]\n",
      "INFO:hmm:Saved model to my_hmm.pkl\n",
      "100%|██████████| 1/1 [00:00<00:00, 10.36it/s]\n",
      "INFO:eval:Cross-entropy: 1.0438 nats (= perplexity 2.840)\n",
      "100%|██████████| 1/1 [00:00<00:00,  5.92it/s]\n",
      "INFO:hmm:Saved model to my_hmm.pkl\n",
      "100%|██████████| 1/1 [00:00<00:00, 15.79it/s]\n",
      "INFO:eval:Cross-entropy: 1.0414 nats (= perplexity 2.833)\n",
      "100%|██████████| 1/1 [00:00<00:00,  7.54it/s]\n",
      "INFO:hmm:Saved model to my_hmm.pkl\n",
      "100%|██████████| 1/1 [00:00<00:00, 16.73it/s]\n",
      "INFO:eval:Cross-entropy: 1.0402 nats (= perplexity 2.830)\n",
      "100%|██████████| 1/1 [00:00<00:00,  8.10it/s]\n",
      "INFO:hmm:Saved model to my_hmm.pkl\n",
      "100%|██████████| 1/1 [00:00<00:00, 15.98it/s]\n",
      "INFO:eval:Cross-entropy: 1.0396 nats (= perplexity 2.828)\n",
      "100%|██████████| 1/1 [00:00<00:00,  7.67it/s]\n",
      "INFO:hmm:Saved model to my_hmm.pkl\n",
      "100%|██████████| 1/1 [00:00<00:00, 16.92it/s]\n",
      "INFO:eval:Cross-entropy: 1.0394 nats (= perplexity 2.828)\n",
      "100%|██████████| 1/1 [00:00<00:00,  8.23it/s]\n",
      "INFO:hmm:Saved model to my_hmm.pkl\n",
      "100%|██████████| 1/1 [00:00<00:00, 16.63it/s]\n",
      "INFO:eval:Cross-entropy: 1.0393 nats (= perplexity 2.827)\n",
      "100%|██████████| 1/1 [00:00<00:00,  7.46it/s]\n",
      "INFO:hmm:Saved model to my_hmm.pkl\n",
      "100%|██████████| 1/1 [00:00<00:00, 16.53it/s]\n",
      "INFO:eval:Cross-entropy: 1.0392 nats (= perplexity 2.827)\n",
      "INFO:hmm:Saved model to my_hmm.pkl\n"
     ]
    }
   ],
   "source": [
    "log.info(\"*** Reestimating on icraw (perplexity should improve on every iteration)\")\n",
    "negative_log_likelihood = lambda model: model_cross_entropy(model, icraw)  # evaluate on icraw itself\n",
    "hmm.train(corpus=icraw, loss=negative_log_likelihood, tolerance=0.0001)"
   ]
  },
  {
   "cell_type": "code",
   "execution_count": 20,
   "metadata": {},
   "outputs": [
    {
     "name": "stderr",
     "output_type": "stream",
     "text": [
      "INFO:test_ic:*** A, B matrices after reestimation on icrawshould match final params on spreadsheet [transposed])\n"
     ]
    },
    {
     "name": "stdout",
     "output_type": "stream",
     "text": [
      "Transition matrix A:\n",
      "\tC\tH\t_EOS_TAG_\t_BOS_TAG_\n",
      "C\t0.934\t0.066\t0.000\t0.000\n",
      "H\t0.072\t0.865\t0.063\t0.000\n",
      "_EOS_TAG_\t0.000\t0.000\t0.000\t0.000\n",
      "_BOS_TAG_\t0.000\t1.000\t0.000\t0.000\n",
      "\n",
      "Emission matrix B:\n",
      "\t1\t2\t3\n",
      "C\t0.641\t0.148\t0.211\n",
      "H\t0.000\t0.534\t0.466\n",
      "_EOS_TAG_\t0.000\t0.000\t0.000\n",
      "_BOS_TAG_\t0.000\t0.000\t0.000\n",
      "\n",
      "\n"
     ]
    }
   ],
   "source": [
    "log.info(\"*** A, B matrices after reestimation on icraw\"\n",
    "         \"should match final params on spreadsheet [transposed])\")\n",
    "hmm.printAB()"
   ]
  },
  {
   "cell_type": "markdown",
   "metadata": {},
   "source": [
    "Now let's try out a randomly initialized CRF on the ice cream data. Notice how\n",
    "the initialized A and B matrices now hold non-negative potentials,\n",
    "rather than probabilities that sum to 1."
   ]
  },
  {
   "cell_type": "code",
   "execution_count": null,
   "metadata": {},
   "outputs": [],
   "source": [
    "log.info(\"*** Conditional Random Field (CRF) Backprop test\\n\")\n",
    "crf = ConditionalRandomFieldBackprop(icsup.tagset, icsup.vocab)\n",
    "log.info(\"*** Current A, B matrices (potentials from small random parameters)\")\n",
    "crf.printAB()"
   ]
  },
  {
   "cell_type": "markdown",
   "metadata": {},
   "source": [
    "Now let's try your training code, running it on supervised data. To test this,\n",
    "we'll restart from a random initialization. \n",
    "\n",
    "Note that the logger reports the CRF's *conditional* cross-entropy, \n",
    "log p(tags | words) / n.  This is much lower than the HMM's *joint* \n",
    "cross-entropy log p(tags, words) / n, but that doesn't mean the CRF\n",
    "is worse at tagging.  The CRF is just predicting less information."
   ]
  },
  {
   "cell_type": "code",
   "execution_count": 22,
   "metadata": {},
   "outputs": [
    {
     "name": "stderr",
     "output_type": "stream",
     "text": [
      "INFO:test_ic:*** Supervised training on icsup\n",
      "100%|██████████| 4/4 [00:00<00:00, 235.43it/s]\n",
      "INFO:eval:Cross-entropy: 0.6292 nats (= perplexity 1.876)\n",
      "100%|██████████| 500/500 [00:03<00:00, 128.86it/s]\n",
      "100%|██████████| 4/4 [00:00<00:00, 365.62it/s]\n",
      "INFO:eval:Cross-entropy: 0.2034 nats (= perplexity 1.226)\n",
      "100%|██████████| 500/500 [00:03<00:00, 150.82it/s]\n",
      "100%|██████████| 4/4 [00:00<00:00, 173.86it/s]\n",
      "INFO:eval:Cross-entropy: 0.2019 nats (= perplexity 1.224)\n",
      "100%|██████████| 500/500 [00:03<00:00, 152.72it/s]\n",
      "100%|██████████| 4/4 [00:00<00:00, 352.55it/s]\n",
      "INFO:eval:Cross-entropy: 0.2016 nats (= perplexity 1.223)\n",
      "100%|██████████| 500/500 [00:03<00:00, 159.89it/s]\n",
      "100%|██████████| 4/4 [00:00<00:00, 376.65it/s]\n",
      "INFO:eval:Cross-entropy: 0.2013 nats (= perplexity 1.223)\n",
      "100%|██████████| 500/500 [00:03<00:00, 159.43it/s]\n",
      "100%|██████████| 4/4 [00:00<00:00, 384.09it/s]\n",
      "INFO:eval:Cross-entropy: 0.2022 nats (= perplexity 1.224)\n",
      "INFO:hmm:Saved model to my_hmm.pkl\n",
      "INFO:test_ic:*** A, B matrices after training on icsup\n"
     ]
    },
    {
     "name": "stdout",
     "output_type": "stream",
     "text": [
      "Transition matrix A:\n",
      "\tC\tH\t_EOS_TAG_\t_BOS_TAG_\n",
      "C\t1.298\t0.071\t8.528\t0.000\n",
      "H\t2.149\t1.269\t0.118\t0.000\n",
      "_EOS_TAG_\t0.000\t0.000\t0.000\t0.000\n",
      "_BOS_TAG_\t0.100\t10.151\t0.000\t0.000\n",
      "\n",
      "Emission matrix B:\n",
      "\t1\t2\t3\n",
      "C\t21.280\t1.050\t0.060\n",
      "H\t0.047\t0.967\t16.656\n",
      "_EOS_TAG_\t0.000\t0.000\t0.000\n",
      "_BOS_TAG_\t0.000\t0.000\t0.000\n",
      "\n",
      "\n"
     ]
    }
   ],
   "source": [
    "log.info(\"*** Supervised training on icsup\")\n",
    "cross_entropy_loss = lambda model: model_cross_entropy(model, icsup)\n",
    "crf.train(corpus=icsup, loss=cross_entropy_loss, lr=0.1, tolerance=0.0001)\n",
    "log.info(\"*** A, B matrices after training on icsup\")\n",
    "crf.printAB()"
   ]
  },
  {
   "cell_type": "markdown",
   "metadata": {},
   "source": [
    "Let's again tag the spreadsheet \"sentence\" (that is, the sequence of ice creams) \n",
    "using the Viterbi algorithm (this may not match the HMM)."
   ]
  },
  {
   "cell_type": "code",
   "execution_count": 23,
   "metadata": {},
   "outputs": [
    {
     "name": "stderr",
     "output_type": "stream",
     "text": [
      "INFO:test_ic:*** Viterbi results on icraw with trained parameters\n",
      "100%|██████████| 1/1 [00:00<00:00, 13.23it/s]\n"
     ]
    },
    {
     "name": "stdout",
     "output_type": "stream",
     "text": [
      "2/H 3/H 3/H 2/H 3/H 2/H 3/H 2/H 2/H 3/H 1/C 3/C 3/C 1/C 1/C 1/C 2/C 1/C 1/C 1/C 3/C 1/C 2/C 1/C 1/C 1/C 2/H 3/H 3/H 2/H 3/H 2/H 2/H\n"
     ]
    },
    {
     "ename": "NameError",
     "evalue": "name 'crfb' is not defined",
     "output_type": "error",
     "traceback": [
      "\u001b[0;31m---------------------------------------------------------------------------\u001b[0m",
      "\u001b[0;31mNameError\u001b[0m                                 Traceback (most recent call last)",
      "Cell \u001b[0;32mIn[23], line 6\u001b[0m\n\u001b[1;32m      3\u001b[0m write_tagging(hmm, icraw, Path(\u001b[38;5;124m\"\u001b[39m\u001b[38;5;124micraw_crf.output\u001b[39m\u001b[38;5;124m\"\u001b[39m))  \u001b[38;5;66;03m# calls hmm.viterbi_tagging on each sentence\u001b[39;00m\n\u001b[1;32m      4\u001b[0m os\u001b[38;5;241m.\u001b[39msystem(\u001b[38;5;124m\"\u001b[39m\u001b[38;5;124mcat icraw_crf.output\u001b[39m\u001b[38;5;124m\"\u001b[39m)   \u001b[38;5;66;03m# print the file we just created, and remove it\u001b[39;00m\n\u001b[0;32m----> 6\u001b[0m viterbi_error_rate(\u001b[43mcrfb\u001b[49m, icdev, show_cross_entropy\u001b[38;5;241m=\u001b[39m\u001b[38;5;28;01mFalse\u001b[39;00m)\n",
      "\u001b[0;31mNameError\u001b[0m: name 'crfb' is not defined"
     ]
    }
   ],
   "source": [
    "log.info(\"*** Viterbi results on icraw with trained parameters\")\n",
    "icraw = TaggedCorpus(Path(\"icraw\"), tagset=icsup.tagset, vocab=icsup.vocab)\n",
    "write_tagging(hmm, icraw, Path(\"icraw_crf.output\"))  # calls hmm.viterbi_tagging on each sentence\n",
    "os.system(\"cat icraw_crf.output\")   # print the file we just created, and remove it\n",
    "\n",
    "viterbi_error_rate(crfb, icdev, show_cross_entropy=False)"
   ]
  },
  {
   "cell_type": "code",
   "execution_count": 24,
   "metadata": {},
   "outputs": [
    {
     "name": "stderr",
     "output_type": "stream",
     "text": [
      "INFO:test_ic:*** Viterbi results on icraw with trained parameters\n",
      "100%|██████████| 1/1 [00:00<00:00,  5.27it/s]\n"
     ]
    },
    {
     "name": "stdout",
     "output_type": "stream",
     "text": [
      "2/H 3/H 3/H 2/H 3/H 2/H 3/H 2/H 2/H 3/H 1/C 3/C 3/C 1/C 1/C 1/C 2/C 1/C 1/C 1/C 3/C 1/C 2/C 1/C 1/C 1/C 2/H 3/H 3/H 2/H 3/H 2/H 2/H\n"
     ]
    },
    {
     "name": "stderr",
     "output_type": "stream",
     "text": [
      "100%|██████████| 1/1 [00:00<00:00,  8.25it/s]\n",
      "INFO:eval:Tagging accuracy: all: 81.818%, seen: 81.818%, novel: nan%\n"
     ]
    },
    {
     "data": {
      "text/plain": [
       "0.18181818181818177"
      ]
     },
     "execution_count": 24,
     "metadata": {},
     "output_type": "execute_result"
    }
   ],
   "source": [
    "log.info(\"*** Viterbi results on icraw with trained parameters\")\n",
    "icraw = TaggedCorpus(Path(\"icraw\"), tagset=icsup.tagset, vocab=icsup.vocab)\n",
    "write_tagging(hmm, icraw, Path(\"icraw_crf.output\"))  # calls hmm.viterbi_tagging on each sentence\n",
    "os.system(\"cat icraw_crf.output\")   # print the file we just created, and remove it\n",
    "\n",
    "viterbi_error_rate(crf, icdev, show_cross_entropy=False)"
   ]
  },
  {
   "cell_type": "code",
   "execution_count": null,
   "metadata": {},
   "outputs": [],
   "source": [
    "import torch\n",
    "from torch import Tensor, cuda, nn\n",
    "from corpus import Sentence\n",
    "\n",
    "class TestNonStationaryHMM(HiddenMarkovModel):\n",
    "    \"\"\"A simple non-stationary HMM that changes its parameters based on position.\"\"\"\n",
    "    \n",
    "    def A_at(self, position: int, sentence: Sentence) -> Tensor:\n",
    "        \"\"\"Return different transition probabilities at different positions.\"\"\"\n",
    "        if position == 1:  # First real position after BOS\n",
    "            # Higher probability of H→C at the start\n",
    "            A = self.A.clone()\n",
    "            valid_mask = torch.ones(self.k, dtype=torch.bool)\n",
    "            valid_mask[self.bos_t] = False\n",
    "            valid_mask[self.eos_t] = False\n",
    "            A[valid_mask] *= 1.2  # Increase non-special transitions\n",
    "            return A.softmax(dim=1)  # Renormalize\n",
    "        return self.A\n",
    "\n",
    "    def B_at(self, position: int, sentence: Sentence) -> Tensor:\n",
    "        \"\"\"Return different emission probabilities at different positions.\"\"\"\n",
    "        if position > 2:  # Later positions\n",
    "            # Higher probability of emitting '3' later in sequence\n",
    "            B = self.B.clone()\n",
    "            B[:, 2] *= 1.2  # Increase probability of emitting '3'\n",
    "            return B.softmax(dim=1)  # Renormalize\n",
    "        return self.B\n",
    "\n",
    "def test_nonstationary():\n",
    "    \"\"\"Test that non-stationary HMM behaves differently from regular HMM.\"\"\"\n",
    "    print(\"\\n=== Testing Non-stationary HMM ===\")\n",
    "    \n",
    "    # Create both types of HMMs with same initialization\n",
    "    regular_hmm = HiddenMarkovModel(icsup.tagset, icsup.vocab)\n",
    "    nonstat_hmm = TestNonStationaryHMM(icsup.tagset, icsup.vocab)\n",
    "    \n",
    "    # Set some specific initial parameters for clear testing\n",
    "    regular_hmm.B = torch.tensor([[0.7, 0.2, 0.1],    # emission probabilities\n",
    "                                 [0.1, 0.2, 0.7],\n",
    "                                 [0.0, 0.0, 0.0],\n",
    "                                 [0.0, 0.0, 0.0]])\n",
    "    \n",
    "    regular_hmm.A = torch.tensor([[0.8, 0.1, 0.1, 0.0],   # transition probabilities\n",
    "                                 [0.1, 0.8, 0.1, 0.0],\n",
    "                                 [0.0, 0.0, 0.0, 0.0],\n",
    "                                 [0.5, 0.5, 0.0, 0.0]])\n",
    "    \n",
    "    # Copy parameters to non-stationary HMM\n",
    "    nonstat_hmm.A = regular_hmm.A.clone()\n",
    "    nonstat_hmm.B = regular_hmm.B.clone()\n",
    "    \n",
    "    # Get test sentence from corpus\n",
    "    test_sent = next(iter(icdev))\n",
    "    \n",
    "    # Get probabilities for same sequence from both models\n",
    "    reg_prob = regular_hmm.logprob(test_sent, icdev)\n",
    "    nonstat_prob = nonstat_hmm.logprob(test_sent, icdev)\n",
    "    \n",
    "    # Print results\n",
    "    print(f\"\\nTest sentence: {test_sent}\")\n",
    "    print(f\"Regular HMM log probability: {reg_prob:.4f}\")\n",
    "    print(f\"Non-stationary HMM log probability: {nonstat_prob:.4f}\")\n",
    "    \n",
    "    # Compare taggings\n",
    "    reg_tagging = regular_hmm.viterbi_tagging(test_sent, icdev)\n",
    "    nonstat_tagging = nonstat_hmm.viterbi_tagging(test_sent, icdev)\n",
    "    \n",
    "    print(f\"\\nRegular HMM tagging: {reg_tagging}\")\n",
    "    print(f\"Non-stationary HMM tagging: {nonstat_tagging}\")\n",
    "    \n",
    "    # Verify different probabilities\n",
    "    assert reg_prob != nonstat_prob, \"Non-stationary HMM gave same probability as regular HMM\"\n",
    "    print(\"\\nTest passed: Non-stationary HMM produced different probabilities as expected\")\n",
    "\n",
    "\n",
    "# Add this to your existing test code\n",
    "if __name__ == \"__main__\":\n",
    "    # ... your existing test code ...\n",
    "    \n",
    "    # Test non-stationary modifications\n",
    "    test_nonstationary()"
   ]
  }
 ],
 "metadata": {
  "kernelspec": {
   "display_name": "base",
   "language": "python",
   "name": "python3"
  },
  "language_info": {
   "codemirror_mode": {
    "name": "ipython",
    "version": 3
   },
   "file_extension": ".py",
   "mimetype": "text/x-python",
   "name": "python",
   "nbconvert_exporter": "python",
   "pygments_lexer": "ipython3",
   "version": "3.9.20"
  }
 },
 "nbformat": 4,
 "nbformat_minor": 2
}
