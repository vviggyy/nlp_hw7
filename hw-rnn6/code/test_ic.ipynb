{
 "cells": [
  {
   "cell_type": "code",
   "execution_count": 21,
   "metadata": {},
   "outputs": [],
   "source": [
    "#!/usr/bin/env python3"
   ]
  },
  {
   "cell_type": "code",
   "execution_count": 22,
   "metadata": {},
   "outputs": [
    {
     "name": "stdout",
     "output_type": "stream",
     "text": [
      "The autoreload extension is already loaded. To reload it, use:\n",
      "  %reload_ext autoreload\n"
     ]
    }
   ],
   "source": [
    "%load_ext autoreload\n",
    "%autoreload 2"
   ]
  },
  {
   "cell_type": "code",
   "execution_count": 23,
   "metadata": {},
   "outputs": [
    {
     "name": "stdout",
     "output_type": "stream",
     "text": [
      "Requirement already satisfied: more_itertools in /Users/viggy/mambaforge/lib/python3.10/site-packages (10.5.0)\n"
     ]
    }
   ],
   "source": [
    "!pip install more_itertools"
   ]
  },
  {
   "cell_type": "markdown",
   "metadata": {},
   "source": [
    "This file illustrates how you might experiment with the HMM interface.\n",
    "You can paste these commands in at the Python prompt, or execute `test_ic.py` directly.\n",
    "A notebook interface is nicer than the plain Python prompt, so we provide\n",
    "a notebook version of this file as `test_ic.ipynb`, which you can open with\n",
    "`jupyter` or with Visual Studio `code` (run it with the `nlp-class` kernel)."
   ]
  },
  {
   "cell_type": "code",
   "execution_count": 24,
   "metadata": {},
   "outputs": [],
   "source": [
    "import logging, math, os\n",
    "from pathlib import Path"
   ]
  },
  {
   "cell_type": "code",
   "execution_count": 25,
   "metadata": {},
   "outputs": [],
   "source": [
    "import torch\n",
    "from torch import tensor"
   ]
  },
  {
   "cell_type": "code",
   "execution_count": 26,
   "metadata": {},
   "outputs": [],
   "source": [
    "from corpus import TaggedCorpus\n",
    "from eval import model_cross_entropy, write_tagging\n",
    "from hmm import HiddenMarkovModel\n",
    "from crf import ConditionalRandomField\n",
    "from crf_backprop import ConditionalRandomFieldBackprop"
   ]
  },
  {
   "cell_type": "markdown",
   "metadata": {},
   "source": [
    "Set up logging."
   ]
  },
  {
   "cell_type": "code",
   "execution_count": 27,
   "metadata": {},
   "outputs": [],
   "source": [
    "log = logging.getLogger(\"test_ic\")       # For usage, see findsim.py in earlier assignment.\n",
    "logging.root.setLevel(level=logging.INFO)\n",
    "logging.basicConfig(level=logging.INFO)  # could change INFO to DEBUG\n",
    "# torch.autograd.set_detect_anomaly(True)    # uncomment to improve error messages from .backward(), but slows down"
   ]
  },
  {
   "cell_type": "markdown",
   "metadata": {},
   "source": [
    "Switch working directory to the directory where the data live.  You may want to edit this line."
   ]
  },
  {
   "cell_type": "code",
   "execution_count": 28,
   "metadata": {},
   "outputs": [],
   "source": [
    "os.chdir(\"../data\")"
   ]
  },
  {
   "cell_type": "markdown",
   "metadata": {},
   "source": [
    "Get vocabulary and tagset from a supervised corpus."
   ]
  },
  {
   "cell_type": "code",
   "execution_count": 29,
   "metadata": {},
   "outputs": [
    {
     "name": "stderr",
     "output_type": "stream",
     "text": [
      "INFO:corpus:Read 40 tokens from icsup\n",
      "INFO:corpus:Created 4 tag types\n",
      "INFO:corpus:Created 5 word types\n",
      "INFO:test_ic:Ice cream vocabulary: ['1', '2', '3', '_EOS_WORD_', '_BOS_WORD_']\n",
      "INFO:test_ic:Ice cream tagset: ['C', 'H', '_EOS_TAG_', '_BOS_TAG_']\n"
     ]
    }
   ],
   "source": [
    "icsup = TaggedCorpus(Path(\"icsup\"), add_oov=False)\n",
    "log.info(f\"Ice cream vocabulary: {list(icsup.vocab)}\")\n",
    "log.info(f\"Ice cream tagset: {list(icsup.tagset)}\")"
   ]
  },
  {
   "cell_type": "markdown",
   "metadata": {},
   "source": [
    "Two ways to look at the corpus ..."
   ]
  },
  {
   "cell_type": "code",
   "execution_count": 30,
   "metadata": {},
   "outputs": [
    {
     "name": "stdout",
     "output_type": "stream",
     "text": [
      "1/C 1/C 1/C 1/C 1/C 1/C 1/C 2/C 2/C 3/H\n",
      "1/H 2/H 2/H 3/H 3/H 3/H 3/H 3/H 3/H 3/C\n",
      "1/C 1/C 1/C 1/C 1/C 1/C 1/C 2/C 2/C 3/H\n",
      "1/H 2/H 2/H 3/H 3/H 3/H 3/H 3/H 3/H 3/C\n"
     ]
    },
    {
     "data": {
      "text/plain": [
       "0"
      ]
     },
     "execution_count": 30,
     "metadata": {},
     "output_type": "execute_result"
    }
   ],
   "source": [
    "os.system(\"cat icsup\")   # call the shell to look at the file directly"
   ]
  },
  {
   "cell_type": "code",
   "execution_count": 31,
   "metadata": {},
   "outputs": [
    {
     "name": "stderr",
     "output_type": "stream",
     "text": [
      "INFO:test_ic:1/C 1/C 1/C 1/C 1/C 1/C 1/C 2/C 2/C 3/H\n",
      "1/H 2/H 2/H 3/H 3/H 3/H 3/H 3/H 3/H 3/C\n",
      "1/C 1/C 1/C 1/C 1/C 1/C 1/C 2/C 2/C 3/H\n",
      "1/H 2/H 2/H 3/H 3/H 3/H 3/H 3/H 3/H 3/C\n"
     ]
    }
   ],
   "source": [
    "log.info(icsup)          # print the TaggedCorpus python object we constructed from it"
   ]
  },
  {
   "cell_type": "markdown",
   "metadata": {},
   "source": [
    "Make an HMM."
   ]
  },
  {
   "cell_type": "code",
   "execution_count": 32,
   "metadata": {},
   "outputs": [
    {
     "name": "stderr",
     "output_type": "stream",
     "text": [
      "INFO:test_ic:*** Hidden Markov Model (HMM) test\n",
      "\n",
      "INFO:test_ic:*** Current A, B matrices (using initalizations from the ice cream spreadsheet)\n"
     ]
    },
    {
     "name": "stdout",
     "output_type": "stream",
     "text": [
      "Transition matrix A:\n",
      "\tC\tH\t_EOS_TAG_\t_BOS_TAG_\n",
      "C\t0.800\t0.100\t0.100\t0.000\n",
      "H\t0.100\t0.800\t0.100\t0.000\n",
      "_EOS_TAG_\t0.000\t0.000\t0.000\t0.000\n",
      "_BOS_TAG_\t0.500\t0.500\t0.000\t0.000\n",
      "\n",
      "Emission matrix B:\n",
      "\t1\t2\t3\n",
      "C\t0.700\t0.200\t0.100\n",
      "H\t0.100\t0.200\t0.700\n",
      "_EOS_TAG_\t0.000\t0.000\t0.000\n",
      "_BOS_TAG_\t0.000\t0.000\t0.000\n",
      "\n",
      "\n"
     ]
    }
   ],
   "source": [
    "log.info(\"*** Hidden Markov Model (HMM) test\\n\")\n",
    "hmm = HiddenMarkovModel(icsup.tagset, icsup.vocab)\n",
    "# Change the transition/emission initial probabilities to match the ice cream spreadsheet,\n",
    "# and test your implementation of the Viterbi algorithm.  Note that the spreadsheet \n",
    "# uses transposed versions of these matrices.\n",
    "hmm.B = tensor([[0.7000, 0.2000, 0.1000],    # emission probabilities\n",
    "                [0.1000, 0.2000, 0.7000],\n",
    "                [0.0000, 0.0000, 0.0000],\n",
    "                [0.0000, 0.0000, 0.0000]])\n",
    "hmm.A = tensor([[0.8000, 0.1000, 0.1000, 0.0000],   # transition probabilities\n",
    "                [0.1000, 0.8000, 0.1000, 0.0000],\n",
    "                [0.0000, 0.0000, 0.0000, 0.0000],\n",
    "                [0.5000, 0.5000, 0.0000, 0.0000]])\n",
    "log.info(\"*** Current A, B matrices (using initalizations from the ice cream spreadsheet)\")\n",
    "hmm.printAB()"
   ]
  },
  {
   "cell_type": "markdown",
   "metadata": {},
   "source": [
    "Try it out on the raw data from the spreadsheet, available in `icraw``."
   ]
  },
  {
   "cell_type": "code",
   "execution_count": 33,
   "metadata": {},
   "outputs": [
    {
     "name": "stderr",
     "output_type": "stream",
     "text": [
      "INFO:test_ic:*** Viterbi results on icraw with hard coded parameters\n",
      "100%|██████████| 1/1 [00:00<00:00, 97.17it/s]"
     ]
    },
    {
     "name": "stdout",
     "output_type": "stream",
     "text": [
      "2/H 3/H 3/H 2/H 3/H 2/H 3/H 2/H 2/H 3/H 1/H 3/H 3/H 1/C 1/C 1/C 2/C 1/C 1/C 1/C 3/C 1/C 2/C 1/C 1/C 1/C 2/H 3/H 3/H 2/H 3/H 2/H 2/H\n"
     ]
    },
    {
     "name": "stderr",
     "output_type": "stream",
     "text": [
      "\n"
     ]
    },
    {
     "data": {
      "text/plain": [
       "0"
      ]
     },
     "execution_count": 33,
     "metadata": {},
     "output_type": "execute_result"
    }
   ],
   "source": [
    "log.info(\"*** Viterbi results on icraw with hard coded parameters\")\n",
    "icraw = TaggedCorpus(Path(\"icraw\"), tagset=icsup.tagset, vocab=icsup.vocab)\n",
    "write_tagging(hmm, icraw, Path(\"icraw_hmm.output\"))  # calls hmm.viterbi_tagging on each sentence\n",
    "os.system(\"cat icraw_hmm.output\")   # print the file we just created, and remove it\n"
   ]
  },
  {
   "cell_type": "markdown",
   "metadata": {},
   "source": [
    "Did the parameters that we guessed above get the \"correct\" answer, \n",
    "as revealed in `icdev`?"
   ]
  },
  {
   "cell_type": "code",
   "execution_count": 34,
   "metadata": {},
   "outputs": [
    {
     "name": "stderr",
     "output_type": "stream",
     "text": [
      "INFO:test_ic:*** Compare to icdev corpus:\n",
      "2/H 3/H 3/H 2/H 3/H 2/H 3/H 2/H 2/H 3/H 1/C 3/C 3/C 1/C 1/C 1/C 2/C 1/C 1/C 1/C 3/C 1/C 2/C 1/C 1/C 1/C 2/H 3/H 3/H 2/H 3/H 2/H 2/H\n",
      "100%|██████████| 1/1 [00:00<00:00, 341.06it/s]\n",
      "INFO:eval:Tagging accuracy: all: 90.909%, seen: 90.909%, novel: nan%\n"
     ]
    },
    {
     "data": {
      "text/plain": [
       "0.09090909090909094"
      ]
     },
     "execution_count": 34,
     "metadata": {},
     "output_type": "execute_result"
    }
   ],
   "source": [
    "icdev = TaggedCorpus(Path(\"icdev\"), tagset=icsup.tagset, vocab=icsup.vocab)\n",
    "log.info(f\"*** Compare to icdev corpus:\\n{icdev}\")\n",
    "from eval import viterbi_error_rate\n",
    "viterbi_error_rate(hmm, icdev, show_cross_entropy=False)"
   ]
  },
  {
   "cell_type": "markdown",
   "metadata": {},
   "source": [
    "Now let's try your training code, running it on supervised data.\n",
    "To test this, we'll restart from a random initialization.\n",
    "(You could also try creating this new model with `unigram=true`, \n",
    "which will affect the rest of the notebook.)"
   ]
  },
  {
   "cell_type": "code",
   "execution_count": 35,
   "metadata": {},
   "outputs": [
    {
     "name": "stderr",
     "output_type": "stream",
     "text": [
      "INFO:test_ic:*** A, B matrices as randomly initialized close to uniform\n"
     ]
    },
    {
     "name": "stdout",
     "output_type": "stream",
     "text": [
      "Transition matrix A:\n",
      "\tC\tH\t_EOS_TAG_\t_BOS_TAG_\n",
      "C\t0.445\t0.286\t0.269\t0.000\n",
      "H\t0.281\t0.448\t0.271\t0.000\n",
      "_EOS_TAG_\t0.290\t0.272\t0.438\t0.000\n",
      "_BOS_TAG_\t0.344\t0.334\t0.322\t0.000\n",
      "\n",
      "Emission matrix B:\n",
      "\t1\t2\t3\n",
      "C\t0.332\t0.333\t0.334\n",
      "H\t0.324\t0.336\t0.340\n",
      "_EOS_TAG_\t0.000\t0.000\t0.000\n",
      "_BOS_TAG_\t0.000\t0.000\t0.000\n",
      "\n",
      "\n"
     ]
    }
   ],
   "source": [
    "hmm = HiddenMarkovModel(icsup.tagset, icsup.vocab)\n",
    "log.info(\"*** A, B matrices as randomly initialized close to uniform\")\n",
    "hmm.printAB()"
   ]
  },
  {
   "cell_type": "code",
   "execution_count": 36,
   "metadata": {},
   "outputs": [
    {
     "name": "stderr",
     "output_type": "stream",
     "text": [
      "INFO:test_ic:*** Supervised training on icsup\n",
      "100%|██████████| 4/4 [00:00<00:00, 504.15it/s]\n",
      "INFO:eval:Cross-entropy: 1.4117 nats (= perplexity 4.103)\n",
      "100%|██████████| 4/4 [00:00<00:00, 123.84it/s]\n",
      "INFO:hmm:Saving model to my_hmm.pkl\n",
      "INFO:hmm:Saved model to my_hmm.pkl\n",
      "100%|██████████| 4/4 [00:00<00:00, 1683.61it/s]\n",
      "INFO:eval:Cross-entropy: 1.0584 nats (= perplexity 2.882)\n",
      "100%|██████████| 4/4 [00:00<00:00, 704.33it/s]\n",
      "INFO:hmm:Saving model to my_hmm.pkl\n",
      "INFO:hmm:Saved model to my_hmm.pkl\n",
      "100%|██████████| 4/4 [00:00<00:00, 1815.52it/s]\n",
      "INFO:eval:Cross-entropy: 1.0584 nats (= perplexity 2.882)\n",
      "INFO:hmm:Saving model to my_hmm.pkl\n",
      "INFO:hmm:Saved model to my_hmm.pkl\n",
      "INFO:test_ic:*** A, B matrices after training on icsup (should match initial params on spreadsheet [transposed])\n"
     ]
    },
    {
     "name": "stdout",
     "output_type": "stream",
     "text": [
      "Transition matrix A:\n",
      "\tC\tH\t_EOS_TAG_\t_BOS_TAG_\n",
      "C\t0.800\t0.100\t0.100\t0.000\n",
      "H\t0.100\t0.800\t0.100\t0.000\n",
      "_EOS_TAG_\t0.000\t0.000\t0.000\t0.000\n",
      "_BOS_TAG_\t0.500\t0.500\t0.000\t0.000\n",
      "\n",
      "Emission matrix B:\n",
      "\t1\t2\t3\n",
      "C\t0.700\t0.200\t0.100\n",
      "H\t0.100\t0.200\t0.700\n",
      "_EOS_TAG_\t0.000\t0.000\t0.000\n",
      "_BOS_TAG_\t0.000\t0.000\t0.000\n",
      "\n",
      "\n"
     ]
    }
   ],
   "source": [
    "log.info(\"*** Supervised training on icsup\")\n",
    "cross_entropy_loss = lambda model: model_cross_entropy(model, icsup)\n",
    "hmm.train(corpus=icsup, loss=cross_entropy_loss, tolerance=0.0001)\n",
    "log.info(\"*** A, B matrices after training on icsup (should \"\n",
    "         \"match initial params on spreadsheet [transposed])\")\n",
    "hmm.printAB()"
   ]
  },
  {
   "cell_type": "markdown",
   "metadata": {},
   "source": [
    "Now that we've reached the spreadsheet's starting guess, let's again tag\n",
    "the spreadsheet \"sentence\" (that is, the sequence of ice creams) using the\n",
    "Viterbi algorithm."
   ]
  },
  {
   "cell_type": "code",
   "execution_count": 37,
   "metadata": {},
   "outputs": [
    {
     "name": "stderr",
     "output_type": "stream",
     "text": [
      "INFO:test_ic:*** Viterbi results on icraw\n",
      "100%|██████████| 1/1 [00:00<00:00, 250.57it/s]"
     ]
    },
    {
     "name": "stdout",
     "output_type": "stream",
     "text": [
      "2/H 3/H 3/H 2/H 3/H 2/H 3/H 2/H 2/H 3/H 1/H 3/H 3/H 1/C 1/C 1/C 2/C 1/C 1/C 1/C 3/C 1/C 2/C 1/C 1/C 1/C 2/H 3/H 3/H 2/H 3/H 2/H 2/H\n"
     ]
    },
    {
     "name": "stderr",
     "output_type": "stream",
     "text": [
      "\n"
     ]
    },
    {
     "data": {
      "text/plain": [
       "0"
      ]
     },
     "execution_count": 37,
     "metadata": {},
     "output_type": "execute_result"
    }
   ],
   "source": [
    "log.info(\"*** Viterbi results on icraw\")\n",
    "icraw = TaggedCorpus(Path(\"icraw\"), tagset=icsup.tagset, vocab=icsup.vocab)\n",
    "write_tagging(hmm, icraw, Path(\"icraw_hmm.output\"))  # calls hmm.viterbi_tagging on each sentence\n",
    "os.system(\"cat icraw_hmm.output\")   # print the file we just created, and remove it"
   ]
  },
  {
   "cell_type": "markdown",
   "metadata": {},
   "source": [
    "Next let's use the forward algorithm to see what the model thinks about \n",
    "the probability of the spreadsheet \"sentence.\""
   ]
  },
  {
   "cell_type": "code",
   "execution_count": 38,
   "metadata": {},
   "outputs": [
    {
     "name": "stderr",
     "output_type": "stream",
     "text": [
      "INFO:test_ic:*** Forward algorithm on icraw (should approximately match iteration 0 on spreadsheet)\n",
      "INFO:test_ic:9.127694257509654e-19 = p(2 3 3 2 3 2 3 2 2 3 1 3 3 1 1 1 2 1 1 1 3 1 2 1 1 1 2 3 3 2 3 2 2)\n"
     ]
    }
   ],
   "source": [
    "log.info(\"*** Forward algorithm on icraw (should approximately match iteration 0 \"\n",
    "             \"on spreadsheet)\")\n",
    "for sentence in icraw:\n",
    "    prob = math.exp(hmm.logprob(sentence, icraw))\n",
    "    log.info(f\"{prob} = p({sentence})\")"
   ]
  },
  {
   "cell_type": "markdown",
   "metadata": {},
   "source": [
    "Finally, let's reestimate on the icraw data, as the spreadsheet does.\n",
    "We'll evaluate as we go along on the *training* perplexity, and stop\n",
    "when that has more or less converged."
   ]
  },
  {
   "cell_type": "code",
   "execution_count": 39,
   "metadata": {},
   "outputs": [
    {
     "name": "stderr",
     "output_type": "stream",
     "text": [
      "INFO:test_ic:*** Reestimating on icraw (perplexity should improve on every iteration)\n",
      "100%|██████████| 1/1 [00:00<00:00, 362.42it/s]\n",
      "INFO:eval:Cross-entropy: 1.2217 nats (= perplexity 3.393)\n",
      "100%|██████████| 1/1 [00:00<00:00, 99.40it/s]\n",
      "INFO:hmm:Saving model to my_hmm.pkl\n",
      "INFO:hmm:Saved model to my_hmm.pkl\n",
      "100%|██████████| 1/1 [00:00<00:00, 515.46it/s]\n",
      "INFO:eval:Cross-entropy: 1.0807 nats (= perplexity 2.947)\n",
      "100%|██████████| 1/1 [00:00<00:00, 142.27it/s]\n",
      "INFO:hmm:Saving model to my_hmm.pkl\n",
      "INFO:hmm:Saved model to my_hmm.pkl\n",
      "100%|██████████| 1/1 [00:00<00:00, 506.56it/s]\n",
      "INFO:eval:Cross-entropy: 1.0576 nats (= perplexity 2.879)\n",
      "100%|██████████| 1/1 [00:00<00:00, 142.96it/s]\n",
      "INFO:hmm:Saving model to my_hmm.pkl\n",
      "INFO:hmm:Saved model to my_hmm.pkl\n",
      "100%|██████████| 1/1 [00:00<00:00, 544.08it/s]\n",
      "INFO:eval:Cross-entropy: 1.0486 nats (= perplexity 2.854)\n",
      "100%|██████████| 1/1 [00:00<00:00, 139.53it/s]\n",
      "INFO:hmm:Saving model to my_hmm.pkl\n",
      "INFO:hmm:Saved model to my_hmm.pkl\n",
      "100%|██████████| 1/1 [00:00<00:00, 527.45it/s]\n",
      "INFO:eval:Cross-entropy: 1.0438 nats (= perplexity 2.840)\n",
      "100%|██████████| 1/1 [00:00<00:00, 147.52it/s]\n",
      "INFO:hmm:Saving model to my_hmm.pkl\n",
      "INFO:hmm:Saved model to my_hmm.pkl\n",
      "100%|██████████| 1/1 [00:00<00:00, 378.75it/s]\n",
      "INFO:eval:Cross-entropy: 1.0414 nats (= perplexity 2.833)\n",
      "100%|██████████| 1/1 [00:00<00:00, 154.03it/s]\n",
      "INFO:hmm:Saving model to my_hmm.pkl\n",
      "INFO:hmm:Saved model to my_hmm.pkl\n",
      "100%|██████████| 1/1 [00:00<00:00, 580.37it/s]\n",
      "INFO:eval:Cross-entropy: 1.0402 nats (= perplexity 2.830)\n",
      "100%|██████████| 1/1 [00:00<00:00, 110.29it/s]\n",
      "INFO:hmm:Saving model to my_hmm.pkl\n",
      "INFO:hmm:Saved model to my_hmm.pkl\n",
      "100%|██████████| 1/1 [00:00<00:00, 518.97it/s]\n",
      "INFO:eval:Cross-entropy: 1.0396 nats (= perplexity 2.828)\n",
      "100%|██████████| 1/1 [00:00<00:00, 155.47it/s]\n",
      "INFO:hmm:Saving model to my_hmm.pkl\n",
      "INFO:hmm:Saved model to my_hmm.pkl\n",
      "100%|██████████| 1/1 [00:00<00:00, 567.87it/s]\n",
      "INFO:eval:Cross-entropy: 1.0394 nats (= perplexity 2.828)\n",
      "100%|██████████| 1/1 [00:00<00:00, 175.44it/s]\n",
      "INFO:hmm:Saving model to my_hmm.pkl\n",
      "INFO:hmm:Saved model to my_hmm.pkl\n",
      "100%|██████████| 1/1 [00:00<00:00, 369.28it/s]\n",
      "INFO:eval:Cross-entropy: 1.0393 nats (= perplexity 2.827)\n",
      "100%|██████████| 1/1 [00:00<00:00, 147.09it/s]\n",
      "INFO:hmm:Saving model to my_hmm.pkl\n",
      "INFO:hmm:Saved model to my_hmm.pkl\n",
      "100%|██████████| 1/1 [00:00<00:00, 522.98it/s]\n",
      "INFO:eval:Cross-entropy: 1.0392 nats (= perplexity 2.827)\n",
      "INFO:hmm:Saving model to my_hmm.pkl\n",
      "INFO:hmm:Saved model to my_hmm.pkl\n"
     ]
    }
   ],
   "source": [
    "log.info(\"*** Reestimating on icraw (perplexity should improve on every iteration)\")\n",
    "negative_log_likelihood = lambda model: model_cross_entropy(model, icraw)  # evaluate on icraw itself\n",
    "hmm.train(corpus=icraw, loss=negative_log_likelihood, tolerance=0.0001)"
   ]
  },
  {
   "cell_type": "code",
   "execution_count": 40,
   "metadata": {},
   "outputs": [
    {
     "name": "stderr",
     "output_type": "stream",
     "text": [
      "INFO:test_ic:*** A, B matrices after reestimation on icrawshould match final params on spreadsheet [transposed])\n"
     ]
    },
    {
     "name": "stdout",
     "output_type": "stream",
     "text": [
      "Transition matrix A:\n",
      "\tC\tH\t_EOS_TAG_\t_BOS_TAG_\n",
      "C\t0.934\t0.066\t0.000\t0.000\n",
      "H\t0.072\t0.865\t0.063\t0.000\n",
      "_EOS_TAG_\t0.000\t0.000\t0.000\t0.000\n",
      "_BOS_TAG_\t0.000\t1.000\t0.000\t0.000\n",
      "\n",
      "Emission matrix B:\n",
      "\t1\t2\t3\n",
      "C\t0.641\t0.148\t0.211\n",
      "H\t0.000\t0.534\t0.466\n",
      "_EOS_TAG_\t0.000\t0.000\t0.000\n",
      "_BOS_TAG_\t0.000\t0.000\t0.000\n",
      "\n",
      "\n"
     ]
    }
   ],
   "source": [
    "log.info(\"*** A, B matrices after reestimation on icraw\"\n",
    "         \"should match final params on spreadsheet [transposed])\")\n",
    "hmm.printAB()"
   ]
  },
  {
   "cell_type": "markdown",
   "metadata": {},
   "source": [
    "Now let's try out a randomly initialized CRF on the ice cream data. Notice how\n",
    "the initialized A and B matrices now hold non-negative potentials,\n",
    "rather than probabilities that sum to 1."
   ]
  },
  {
   "cell_type": "code",
   "execution_count": 41,
   "metadata": {},
   "outputs": [
    {
     "name": "stderr",
     "output_type": "stream",
     "text": [
      "INFO:test_ic:*** Conditional Random Field (CRF) Backprop test\n",
      "\n",
      "INFO:crf_backprop:Parameters: 28 = 4*3 + 4*4\n",
      "INFO:test_ic:*** Current A, B matrices (potentials from small random parameters)\n"
     ]
    },
    {
     "name": "stdout",
     "output_type": "stream",
     "text": [
      "Transition matrix A:\n",
      "\tC\tH\t_EOS_TAG_\t_BOS_TAG_\n",
      "C\t1.007\t1.006\t1.005\t1.001\n",
      "H\t1.000\t1.005\t1.001\t1.009\n",
      "_EOS_TAG_\t1.005\t1.006\t1.008\t1.007\n",
      "_BOS_TAG_\t1.008\t1.006\t1.001\t1.008\n",
      "\n",
      "Emission matrix B:\n",
      "\t1\t2\t3\n",
      "C\t1.003\t1.009\t1.003\n",
      "H\t1.003\t1.007\t1.002\n",
      "_EOS_TAG_\t1.004\t1.005\t1.010\n",
      "_BOS_TAG_\t1.006\t1.005\t1.004\n",
      "\n",
      "\n"
     ]
    }
   ],
   "source": [
    "log.info(\"*** Conditional Random Field (CRF) Backprop test\\n\")\n",
    "crf = ConditionalRandomFieldBackprop(icsup.tagset, icsup.vocab)\n",
    "log.info(\"*** Current A, B matrices (potentials from small random parameters)\")\n",
    "crf.printAB()"
   ]
  },
  {
   "cell_type": "markdown",
   "metadata": {},
   "source": [
    "Now let's try your training code, running it on supervised data. To test this,\n",
    "we'll restart from a random initialization. \n",
    "\n",
    "Note that the logger reports the CRF's *conditional* cross-entropy, \n",
    "log p(tags | words) / n.  This is much lower than the HMM's *joint* \n",
    "cross-entropy log p(tags, words) / n, but that doesn't mean the CRF\n",
    "is worse at tagging.  The CRF is just predicting less information."
   ]
  },
  {
   "cell_type": "code",
   "execution_count": null,
   "metadata": {},
   "outputs": [
    {
     "name": "stderr",
     "output_type": "stream",
     "text": [
      "INFO:test_ic:*** Supervised training on icsup\n",
      "  0%|          | 0/4 [00:00<?, ?it/s]"
     ]
    },
    {
     "name": "stdout",
     "output_type": "stream",
     "text": [
      "tensor(7.0290)\n",
      "tensor(1.)\n"
     ]
    },
    {
     "name": "stderr",
     "output_type": "stream",
     "text": [
      "\n"
     ]
    },
    {
     "ename": "TypeError",
     "evalue": "type of the return value must be jaxtyping.Float[Tensor, '']; got NoneType instead",
     "output_type": "error",
     "traceback": [
      "\u001b[0;31m---------------------------------------------------------------------------\u001b[0m",
      "\u001b[0;31mTypeError\u001b[0m                                 Traceback (most recent call last)",
      "Cell \u001b[0;32mIn[27], line 3\u001b[0m\n\u001b[1;32m      1\u001b[0m log\u001b[38;5;241m.\u001b[39minfo(\u001b[38;5;124m\"\u001b[39m\u001b[38;5;124m*** Supervised training on icsup\u001b[39m\u001b[38;5;124m\"\u001b[39m)\n\u001b[1;32m      2\u001b[0m cross_entropy_loss \u001b[38;5;241m=\u001b[39m \u001b[38;5;28;01mlambda\u001b[39;00m model: model_cross_entropy(model, icsup)\n\u001b[0;32m----> 3\u001b[0m \u001b[43mcrf\u001b[49m\u001b[38;5;241;43m.\u001b[39;49m\u001b[43mtrain\u001b[49m\u001b[43m(\u001b[49m\u001b[43mcorpus\u001b[49m\u001b[38;5;241;43m=\u001b[39;49m\u001b[43micsup\u001b[49m\u001b[43m,\u001b[49m\u001b[43m \u001b[49m\u001b[43mloss\u001b[49m\u001b[38;5;241;43m=\u001b[39;49m\u001b[43mcross_entropy_loss\u001b[49m\u001b[43m,\u001b[49m\u001b[43m \u001b[49m\u001b[43mlr\u001b[49m\u001b[38;5;241;43m=\u001b[39;49m\u001b[38;5;241;43m0.1\u001b[39;49m\u001b[43m,\u001b[49m\u001b[43m \u001b[49m\u001b[43mtolerance\u001b[49m\u001b[38;5;241;43m=\u001b[39;49m\u001b[38;5;241;43m0.0001\u001b[39;49m\u001b[43m)\u001b[49m\n\u001b[1;32m      4\u001b[0m log\u001b[38;5;241m.\u001b[39minfo(\u001b[38;5;124m\"\u001b[39m\u001b[38;5;124m*** A, B matrices after training on icsup\u001b[39m\u001b[38;5;124m\"\u001b[39m)\n\u001b[1;32m      5\u001b[0m crf\u001b[38;5;241m.\u001b[39mprintAB()\n",
      "File \u001b[0;32m~/Desktop/root/senior/fa24/nlp/hw6/NLP_HW6/hw-tag/code/crf.py:183\u001b[0m, in \u001b[0;36mConditionalRandomField.train\u001b[0;34m(self, corpus, loss, tolerance, minibatch_size, eval_interval, lr, reg, max_steps, save_path)\u001b[0m\n\u001b[1;32m    181\u001b[0m \u001b[38;5;28mself\u001b[39m\u001b[38;5;241m.\u001b[39m_zero_grad()     \u001b[38;5;66;03m# get ready to accumulate their gradient\u001b[39;00m\n\u001b[1;32m    182\u001b[0m steps \u001b[38;5;241m=\u001b[39m \u001b[38;5;241m0\u001b[39m\n\u001b[0;32m--> 183\u001b[0m old_loss \u001b[38;5;241m=\u001b[39m \u001b[43m_loss\u001b[49m\u001b[43m(\u001b[49m\u001b[43m)\u001b[49m    \u001b[38;5;66;03m# evaluate initial loss\u001b[39;00m\n\u001b[1;32m    184\u001b[0m \u001b[38;5;28;01mfor\u001b[39;00m evalbatch \u001b[38;5;129;01min\u001b[39;00m more_itertools\u001b[38;5;241m.\u001b[39mbatched(\n\u001b[1;32m    185\u001b[0m                    itertools\u001b[38;5;241m.\u001b[39mislice(corpus\u001b[38;5;241m.\u001b[39mdraw_sentences_forever(), \n\u001b[1;32m    186\u001b[0m                                     max_steps),  \u001b[38;5;66;03m# limit infinite iterator\u001b[39;00m\n\u001b[1;32m    187\u001b[0m                    eval_interval): \u001b[38;5;66;03m# group into \"evaluation batches\"\u001b[39;00m\n\u001b[1;32m    188\u001b[0m     \u001b[38;5;28;01mfor\u001b[39;00m sentence \u001b[38;5;129;01min\u001b[39;00m tqdm(evalbatch, total\u001b[38;5;241m=\u001b[39meval_interval):\n\u001b[1;32m    189\u001b[0m         \u001b[38;5;66;03m# Accumulate the gradient of log p(tags | words) on this sentence \u001b[39;00m\n\u001b[1;32m    190\u001b[0m         \u001b[38;5;66;03m# into A_counts and B_counts.\u001b[39;00m\n",
      "File \u001b[0;32m~/Desktop/root/senior/fa24/nlp/hw6/NLP_HW6/hw-tag/code/crf.py:159\u001b[0m, in \u001b[0;36mConditionalRandomField.train.<locals>._loss\u001b[0;34m()\u001b[0m\n\u001b[1;32m    149\u001b[0m \u001b[38;5;28;01mdef\u001b[39;00m \u001b[38;5;21m_loss\u001b[39m() \u001b[38;5;241m-\u001b[39m\u001b[38;5;241m>\u001b[39m \u001b[38;5;28mfloat\u001b[39m:\n\u001b[1;32m    150\u001b[0m     \u001b[38;5;66;03m# Evaluate the loss on the current parameters.\u001b[39;00m\n\u001b[1;32m    151\u001b[0m     \u001b[38;5;66;03m# This will print its own log messages.\u001b[39;00m\n\u001b[0;32m   (...)\u001b[0m\n\u001b[1;32m    156\u001b[0m     \u001b[38;5;66;03m# gradient and we can save time by turning off the extra bookkeeping\u001b[39;00m\n\u001b[1;32m    157\u001b[0m     \u001b[38;5;66;03m# needed to compute it.\u001b[39;00m\n\u001b[1;32m    158\u001b[0m     \u001b[38;5;28;01mwith\u001b[39;00m torch\u001b[38;5;241m.\u001b[39mno_grad():  \u001b[38;5;66;03m# type: ignore \u001b[39;00m\n\u001b[0;32m--> 159\u001b[0m         \u001b[38;5;28;01mreturn\u001b[39;00m \u001b[43mloss\u001b[49m\u001b[43m(\u001b[49m\u001b[38;5;28;43mself\u001b[39;49m\u001b[43m)\u001b[49m\n",
      "Cell \u001b[0;32mIn[27], line 2\u001b[0m, in \u001b[0;36m<lambda>\u001b[0;34m(model)\u001b[0m\n\u001b[1;32m      1\u001b[0m log\u001b[38;5;241m.\u001b[39minfo(\u001b[38;5;124m\"\u001b[39m\u001b[38;5;124m*** Supervised training on icsup\u001b[39m\u001b[38;5;124m\"\u001b[39m)\n\u001b[0;32m----> 2\u001b[0m cross_entropy_loss \u001b[38;5;241m=\u001b[39m \u001b[38;5;28;01mlambda\u001b[39;00m model: \u001b[43mmodel_cross_entropy\u001b[49m\u001b[43m(\u001b[49m\u001b[43mmodel\u001b[49m\u001b[43m,\u001b[49m\u001b[43m \u001b[49m\u001b[43micsup\u001b[49m\u001b[43m)\u001b[49m\n\u001b[1;32m      3\u001b[0m crf\u001b[38;5;241m.\u001b[39mtrain(corpus\u001b[38;5;241m=\u001b[39micsup, loss\u001b[38;5;241m=\u001b[39mcross_entropy_loss, lr\u001b[38;5;241m=\u001b[39m\u001b[38;5;241m0.1\u001b[39m, tolerance\u001b[38;5;241m=\u001b[39m\u001b[38;5;241m0.0001\u001b[39m)\n\u001b[1;32m      4\u001b[0m log\u001b[38;5;241m.\u001b[39minfo(\u001b[38;5;124m\"\u001b[39m\u001b[38;5;124m*** A, B matrices after training on icsup\u001b[39m\u001b[38;5;124m\"\u001b[39m)\n",
      "File \u001b[0;32m~/Desktop/root/senior/fa24/nlp/hw6/NLP_HW6/hw-tag/code/eval.py:33\u001b[0m, in \u001b[0;36mmodel_cross_entropy\u001b[0;34m(model, eval_corpus)\u001b[0m\n\u001b[1;32m     31\u001b[0m token_count \u001b[38;5;241m=\u001b[39m \u001b[38;5;241m0\u001b[39m\n\u001b[1;32m     32\u001b[0m \u001b[38;5;28;01mfor\u001b[39;00m gold \u001b[38;5;129;01min\u001b[39;00m tqdm(eval_corpus, total\u001b[38;5;241m=\u001b[39m\u001b[38;5;28mlen\u001b[39m(eval_corpus)):\n\u001b[0;32m---> 33\u001b[0m     logprob \u001b[38;5;241m+\u001b[39m\u001b[38;5;241m=\u001b[39m \u001b[43mmodel\u001b[49m\u001b[38;5;241;43m.\u001b[39;49m\u001b[43mlogprob\u001b[49m\u001b[43m(\u001b[49m\u001b[43mgold\u001b[49m\u001b[43m,\u001b[49m\u001b[43m \u001b[49m\u001b[43meval_corpus\u001b[49m\u001b[43m)\u001b[49m\u001b[38;5;241m.\u001b[39mitem()\n\u001b[1;32m     34\u001b[0m     token_count \u001b[38;5;241m+\u001b[39m\u001b[38;5;241m=\u001b[39m \u001b[38;5;28mlen\u001b[39m(gold) \u001b[38;5;241m-\u001b[39m \u001b[38;5;241m1\u001b[39m    \u001b[38;5;66;03m# count EOS but not BOS\u001b[39;00m\n\u001b[1;32m     35\u001b[0m cross_entropy \u001b[38;5;241m=\u001b[39m \u001b[38;5;241m-\u001b[39mlogprob \u001b[38;5;241m/\u001b[39m token_count\n",
      "File \u001b[0;32m~/mambaforge/lib/python3.10/site-packages/typeguard/__init__.py:1037\u001b[0m, in \u001b[0;36mtypechecked.<locals>.wrapper\u001b[0;34m(*args, **kwargs)\u001b[0m\n\u001b[1;32m   1035\u001b[0m     check_return_type(retval, memo)\n\u001b[1;32m   1036\u001b[0m \u001b[38;5;28;01mexcept\u001b[39;00m \u001b[38;5;167;01mTypeError\u001b[39;00m \u001b[38;5;28;01mas\u001b[39;00m exc:\n\u001b[0;32m-> 1037\u001b[0m     \u001b[38;5;28;01mraise\u001b[39;00m \u001b[38;5;167;01mTypeError\u001b[39;00m(\u001b[38;5;241m*\u001b[39mexc\u001b[38;5;241m.\u001b[39margs) \u001b[38;5;28;01mfrom\u001b[39;00m \u001b[38;5;28;01mNone\u001b[39;00m\n\u001b[1;32m   1039\u001b[0m \u001b[38;5;66;03m# If a generator is returned, wrap it if its yield/send/return types can be checked\u001b[39;00m\n\u001b[1;32m   1040\u001b[0m \u001b[38;5;28;01mif\u001b[39;00m inspect\u001b[38;5;241m.\u001b[39misgenerator(retval) \u001b[38;5;129;01mor\u001b[39;00m isasyncgen(retval):\n",
      "\u001b[0;31mTypeError\u001b[0m: type of the return value must be jaxtyping.Float[Tensor, '']; got NoneType instead"
     ]
    }
   ],
   "source": [
    "log.info(\"*** Supervised training on icsup\")\n",
    "cross_entropy_loss = lambda model: model_cross_entropy(model, icsup)\n",
    "crf_backprop.train(corpus=icsup, loss=cross_entropy_loss, lr=0.1, tolerance=0.0001)\n",
    "log.info(\"*** A, B matrices after training on icsup\")\n",
    "crf.printAB()"
   ]
  },
  {
   "cell_type": "markdown",
   "metadata": {},
   "source": [
    "Let's again tag the spreadsheet \"sentence\" (that is, the sequence of ice creams) \n",
    "using the Viterbi algorithm (this may not match the HMM)."
   ]
  },
  {
   "cell_type": "code",
   "execution_count": null,
   "metadata": {},
   "outputs": [],
   "source": [
    "log.info(\"*** Viterbi results on icraw with trained parameters\")\n",
    "icraw = TaggedCorpus(Path(\"icraw\"), tagset=icsup.tagset, vocab=icsup.vocab)\n",
    "write_tagging(hmm, icraw, Path(\"icraw_crf.output\"))  # calls hmm.viterbi_tagging on each sentence\n",
    "os.system(\"cat icraw_crf.output\")   # print the file we just created, and remove it"
   ]
  }
 ],
 "metadata": {
  "kernelspec": {
   "display_name": "base",
   "language": "python",
   "name": "python3"
  },
  "language_info": {
   "codemirror_mode": {
    "name": "ipython",
    "version": 3
   },
   "file_extension": ".py",
   "mimetype": "text/x-python",
   "name": "python",
   "nbconvert_exporter": "python",
   "pygments_lexer": "ipython3",
   "version": "3.10.10"
  }
 },
 "nbformat": 4,
 "nbformat_minor": 2
}
